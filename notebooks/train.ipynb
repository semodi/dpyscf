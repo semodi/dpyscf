{
 "cells": [
  {
   "cell_type": "code",
   "execution_count": 9,
   "metadata": {},
   "outputs": [
    {
     "name": "stdout",
     "output_type": "stream",
     "text": [
      "The autoreload extension is already loaded. To reload it, use:\n",
      "  %reload_ext autoreload\n"
     ]
    }
   ],
   "source": [
    "%load_ext autoreload\n",
    "%autoreload 2"
   ]
  },
  {
   "cell_type": "code",
   "execution_count": 2,
   "metadata": {},
   "outputs": [
    {
     "name": "stdout",
     "output_type": "stream",
     "text": [
      "Populating the interactive namespace from numpy and matplotlib\n"
     ]
    },
    {
     "name": "stderr",
     "output_type": "stream",
     "text": [
      "/gpfs/home/smdick/miniconda3/envs/torch/lib/python3.8/site-packages/IPython/core/magics/pylab.py:159: UserWarning: pylab import has clobbered these variables: ['eig', 'datetime']\n",
      "`%matplotlib` prevents importing * from pylab and numpy\n",
      "  warn(\"pylab import has clobbered these variables: %s\"  % clobbered +\n"
     ]
    }
   ],
   "source": [
    "import pyscf\n",
    "from pyscf import gto,dft,scf\n",
    "\n",
    "# import neuralxc\n",
    "# from neuralxc.projector.pyscf import get_eri3c as get_mlovlp\n",
    "import torch\n",
    "torch.set_default_dtype(torch.double)\n",
    "import pyscf\n",
    "from pyscf import gto,dft,scf\n",
    "\n",
    "import numpy as np\n",
    "import scipy\n",
    "from ase import Atoms\n",
    "from ase.io import read, write\n",
    "from dpyscf.net import * \n",
    "from dpyscf.torch_routines import * \n",
    "from dpyscf.utils import *\n",
    "from dpyscf.losses import *\n",
    "from pyscf.cc import CCSD\n",
    "from functools import partial\n",
    "from ase.units import Bohr,Hartree\n",
    "%pylab inline\n",
    "\n",
    "\n",
    "# torch.cuda.current_device()\n",
    "# torch.cuda.is_available()\n",
    "# torch.cuda.get_device_name(0)\n",
    "\n",
    "# ML_BASIS = 'basis-p'\n",
    "DEVICE = 'cpu'"
   ]
  },
  {
   "cell_type": "code",
   "execution_count": 3,
   "metadata": {},
   "outputs": [],
   "source": [
    "atoms = read('../data/haunschild_pbe.traj',':')\n",
    "indices = np.arange(len(atoms)).tolist()"
   ]
  },
  {
   "cell_type": "code",
   "execution_count": 11,
   "metadata": {},
   "outputs": [
    {
     "data": {
      "text/plain": [
       "[Atoms(symbols='N2', pbc=False, calculator=SinglePointCalculator(...)),\n",
       " Atoms(symbols='LiF', pbc=False, calculator=SinglePointCalculator(...)),\n",
       " Atoms(symbols='F2', pbc=False, calculator=SinglePointCalculator(...)),\n",
       " Atoms(symbols='OC', pbc=False, calculator=SinglePointCalculator(...)),\n",
       " Atoms(symbols='C', pbc=False),\n",
       " Atoms(symbols='Cl', pbc=False),\n",
       " Atoms(symbols='F', pbc=False),\n",
       " Atoms(symbols='H', pbc=False),\n",
       " Atoms(symbols='Li', pbc=False),\n",
       " Atoms(symbols='N', pbc=False),\n",
       " Atoms(symbols='Na', pbc=False),\n",
       " Atoms(symbols='O', pbc=False),\n",
       " Atoms(symbols='NO2', pbc=False, calculator=SinglePointCalculator(...)),\n",
       " Atoms(symbols='NH', pbc=False, calculator=SinglePointCalculator(...)),\n",
       " Atoms(symbols='O3', pbc=False, calculator=SinglePointCalculator(...)),\n",
       " Atoms(symbols='N2O', pbc=False, calculator=SinglePointCalculator(...)),\n",
       " Atoms(symbols='CH3', pbc=False, calculator=SinglePointCalculator(...)),\n",
       " Atoms(symbols='CH2', pbc=False, calculator=SinglePointCalculator(...)),\n",
       " Atoms(symbols='OH2', pbc=False, calculator=SinglePointCalculator(...)),\n",
       " Atoms(symbols='NH3', pbc=False, calculator=SinglePointCalculator(...))]"
      ]
     },
     "execution_count": 11,
     "metadata": {},
     "output_type": "execute_result"
    }
   ],
   "source": [
    "atoms"
   ]
  },
  {
   "cell_type": "code",
   "execution_count": 12,
   "metadata": {},
   "outputs": [
    {
     "data": {
      "text/plain": [
       "{'N2': True, 'name': 'Dinitrogen', 'n_rad': 6, 'n_ang': 10, 'pol': False}"
      ]
     },
     "execution_count": 12,
     "metadata": {},
     "output_type": "execute_result"
    }
   ],
   "source": [
    "atoms[0].info"
   ]
  },
  {
   "cell_type": "code",
   "execution_count": 13,
   "metadata": {},
   "outputs": [],
   "source": [
    "testing = read('../data/haunschild_g2/g2_97.traj',':')"
   ]
  },
  {
   "cell_type": "code",
   "execution_count": 62,
   "metadata": {},
   "outputs": [],
   "source": [
    "indices = [23, 84, 144, 21, 116, 106, 50, 15, 58]"
   ]
  },
  {
   "cell_type": "code",
   "execution_count": 63,
   "metadata": {},
   "outputs": [],
   "source": [
    "to_add = [testing[i] for i in indices]"
   ]
  },
  {
   "cell_type": "code",
   "execution_count": 64,
   "metadata": {},
   "outputs": [
    {
     "data": {
      "text/plain": [
       "[Atoms(symbols='NO2', pbc=False, calculator=SinglePointCalculator(...)),\n",
       " Atoms(symbols='NH', pbc=False, calculator=SinglePointCalculator(...)),\n",
       " Atoms(symbols='O3', pbc=False, calculator=SinglePointCalculator(...)),\n",
       " Atoms(symbols='N2O', pbc=False, calculator=SinglePointCalculator(...)),\n",
       " Atoms(symbols='CH3', pbc=False, calculator=SinglePointCalculator(...)),\n",
       " Atoms(symbols='CH2', pbc=False, calculator=SinglePointCalculator(...)),\n",
       " Atoms(symbols='SiH4', pbc=False, calculator=SinglePointCalculator(...)),\n",
       " Atoms(symbols='OH2', pbc=False, calculator=SinglePointCalculator(...)),\n",
       " Atoms(symbols='NH3', pbc=False, calculator=SinglePointCalculator(...))]"
      ]
     },
     "execution_count": 64,
     "metadata": {},
     "output_type": "execute_result"
    }
   ],
   "source": [
    "to_add"
   ]
  },
  {
   "cell_type": "code",
   "execution_count": 11,
   "metadata": {},
   "outputs": [
    {
     "data": {
      "text/plain": [
       "{'NO2': True, 'name': 'Nitrogen dioxide', 'openshell': True}"
      ]
     },
     "execution_count": 11,
     "metadata": {},
     "output_type": "execute_result"
    }
   ],
   "source": [
    "to_add[0].info"
   ]
  },
  {
   "cell_type": "code",
   "execution_count": 18,
   "metadata": {},
   "outputs": [
    {
     "data": {
      "text/plain": [
       "[0.36339749810529004,\n",
       " 0.132172937629701,\n",
       " 0.2345382154735096,\n",
       " 0.43180352541868494,\n",
       " 0.4902723965371663,\n",
       " 0.3036488705738187,\n",
       " 0.5172006043938313,\n",
       " 0.3713350349049067,\n",
       " 0.47457252768494956]"
      ]
     },
     "execution_count": 18,
     "metadata": {},
     "output_type": "execute_result"
    }
   ],
   "source": [
    "[a.get_potential_energy()/Hartree for a in to_add]"
   ]
  },
  {
   "cell_type": "code",
   "execution_count": 12,
   "metadata": {},
   "outputs": [],
   "source": [
    "for a in to_add:\n",
    "    a.info.update({'sc': False, 'sym':False, 'n_rad':1, 'grid_level':1, 'pol': a.info['openshell']})\n",
    "    atoms.append(a)"
   ]
  },
  {
   "cell_type": "code",
   "execution_count": 3,
   "metadata": {},
   "outputs": [
    {
     "ename": "NameError",
     "evalue": "name 'atoms' is not defined",
     "output_type": "error",
     "traceback": [
      "\u001b[0;31m---------------------------------------------------------------------------\u001b[0m",
      "\u001b[0;31mNameError\u001b[0m                                 Traceback (most recent call last)",
      "\u001b[0;32m<ipython-input-3-ddc7e16ef989>\u001b[0m in \u001b[0;36m<module>\u001b[0;34m\u001b[0m\n\u001b[0;32m----> 1\u001b[0;31m \u001b[0matoms\u001b[0m\u001b[0;34m\u001b[0m\u001b[0;34m\u001b[0m\u001b[0m\n\u001b[0m",
      "\u001b[0;31mNameError\u001b[0m: name 'atoms' is not defined"
     ]
    }
   ],
   "source": [
    "atoms"
   ]
  },
  {
   "cell_type": "code",
   "execution_count": 34,
   "metadata": {},
   "outputs": [],
   "source": [
    "write('../data/haunschild_pbe_extended.traj', atoms)"
   ]
  },
  {
   "cell_type": "code",
   "execution_count": 4,
   "metadata": {},
   "outputs": [],
   "source": [
    "atoms = read('../data/haunschild_pbe_extended.traj',':')"
   ]
  },
  {
   "cell_type": "code",
   "execution_count": 5,
   "metadata": {},
   "outputs": [
    {
     "data": {
      "text/plain": [
       "[Atoms(symbols='H2', pbc=False, calculator=SinglePointCalculator(...)),\n",
       " Atoms(symbols='N2', pbc=False, calculator=SinglePointCalculator(...)),\n",
       " Atoms(symbols='LiF', pbc=False, calculator=SinglePointCalculator(...)),\n",
       " Atoms(symbols='CNH', pbc=False, calculator=SinglePointCalculator(...)),\n",
       " Atoms(symbols='CO2', pbc=False, calculator=SinglePointCalculator(...)),\n",
       " Atoms(symbols='Cl2', pbc=False, calculator=SinglePointCalculator(...)),\n",
       " Atoms(symbols='F2', pbc=False, calculator=SinglePointCalculator(...)),\n",
       " Atoms(symbols='O2', pbc=False, calculator=SinglePointCalculator(...)),\n",
       " Atoms(symbols='C2H2', pbc=False, calculator=SinglePointCalculator(...)),\n",
       " Atoms(symbols='OC', pbc=False, calculator=SinglePointCalculator(...)),\n",
       " Atoms(symbols='ClH', pbc=False, calculator=SinglePointCalculator(...)),\n",
       " Atoms(symbols='LiH', pbc=False, calculator=SinglePointCalculator(...)),\n",
       " Atoms(symbols='Na2', pbc=False, calculator=SinglePointCalculator(...)),\n",
       " Atoms(symbols='C', pbc=False),\n",
       " Atoms(symbols='Cl', pbc=False),\n",
       " Atoms(symbols='F', pbc=False),\n",
       " Atoms(symbols='H', pbc=False),\n",
       " Atoms(symbols='Li', pbc=False),\n",
       " Atoms(symbols='N', pbc=False),\n",
       " Atoms(symbols='Na', pbc=False),\n",
       " Atoms(symbols='O', pbc=False),\n",
       " Atoms(symbols='NO', pbc=False),\n",
       " Atoms(symbols='NO2', pbc=False, calculator=SinglePointCalculator(...)),\n",
       " Atoms(symbols='NH', pbc=False, calculator=SinglePointCalculator(...)),\n",
       " Atoms(symbols='O3', pbc=False, calculator=SinglePointCalculator(...)),\n",
       " Atoms(symbols='N2O', pbc=False, calculator=SinglePointCalculator(...)),\n",
       " Atoms(symbols='CH3', pbc=False, calculator=SinglePointCalculator(...)),\n",
       " Atoms(symbols='CH2', pbc=False, calculator=SinglePointCalculator(...)),\n",
       " Atoms(symbols='OH2', pbc=False, calculator=SinglePointCalculator(...)),\n",
       " Atoms(symbols='NH3', pbc=False, calculator=SinglePointCalculator(...))]"
      ]
     },
     "execution_count": 5,
     "metadata": {},
     "output_type": "execute_result"
    }
   ],
   "source": [
    "atoms"
   ]
  },
  {
   "cell_type": "code",
   "execution_count": 32,
   "metadata": {},
   "outputs": [
    {
     "data": {
      "text/plain": [
       "Atoms(symbols='SiH4', pbc=False, calculator=SinglePointCalculator(...))"
      ]
     },
     "execution_count": 32,
     "metadata": {},
     "output_type": "execute_result"
    }
   ],
   "source": [
    "atoms.pop(-3)"
   ]
  },
  {
   "cell_type": "code",
   "execution_count": 33,
   "metadata": {},
   "outputs": [
    {
     "data": {
      "text/plain": [
       "[Atoms(symbols='H2', pbc=False, calculator=SinglePointCalculator(...)),\n",
       " Atoms(symbols='N2', pbc=False, calculator=SinglePointCalculator(...)),\n",
       " Atoms(symbols='LiF', pbc=False, calculator=SinglePointCalculator(...)),\n",
       " Atoms(symbols='CNH', pbc=False, calculator=SinglePointCalculator(...)),\n",
       " Atoms(symbols='CO2', pbc=False, calculator=SinglePointCalculator(...)),\n",
       " Atoms(symbols='Cl2', pbc=False, calculator=SinglePointCalculator(...)),\n",
       " Atoms(symbols='F2', pbc=False, calculator=SinglePointCalculator(...)),\n",
       " Atoms(symbols='O2', pbc=False, calculator=SinglePointCalculator(...)),\n",
       " Atoms(symbols='C2H2', pbc=False, calculator=SinglePointCalculator(...)),\n",
       " Atoms(symbols='OC', pbc=False, calculator=SinglePointCalculator(...)),\n",
       " Atoms(symbols='ClH', pbc=False, calculator=SinglePointCalculator(...)),\n",
       " Atoms(symbols='LiH', pbc=False, calculator=SinglePointCalculator(...)),\n",
       " Atoms(symbols='Na2', pbc=False, calculator=SinglePointCalculator(...)),\n",
       " Atoms(symbols='C', pbc=False),\n",
       " Atoms(symbols='Cl', pbc=False),\n",
       " Atoms(symbols='F', pbc=False),\n",
       " Atoms(symbols='H', pbc=False),\n",
       " Atoms(symbols='Li', pbc=False),\n",
       " Atoms(symbols='N', pbc=False),\n",
       " Atoms(symbols='Na', pbc=False),\n",
       " Atoms(symbols='O', pbc=False),\n",
       " Atoms(symbols='NO', pbc=False),\n",
       " Atoms(symbols='NO2', pbc=False, calculator=SinglePointCalculator(...)),\n",
       " Atoms(symbols='NH', pbc=False, calculator=SinglePointCalculator(...)),\n",
       " Atoms(symbols='O3', pbc=False, calculator=SinglePointCalculator(...)),\n",
       " Atoms(symbols='N2O', pbc=False, calculator=SinglePointCalculator(...)),\n",
       " Atoms(symbols='CH3', pbc=False, calculator=SinglePointCalculator(...)),\n",
       " Atoms(symbols='CH2', pbc=False, calculator=SinglePointCalculator(...)),\n",
       " Atoms(symbols='OH2', pbc=False, calculator=SinglePointCalculator(...)),\n",
       " Atoms(symbols='NH3', pbc=False, calculator=SinglePointCalculator(...))]"
      ]
     },
     "execution_count": 33,
     "metadata": {},
     "output_type": "execute_result"
    }
   ],
   "source": [
    "atoms"
   ]
  },
  {
   "cell_type": "code",
   "execution_count": 27,
   "metadata": {},
   "outputs": [],
   "source": [
    "atoms[7].info.update({'openshell':True,'pol':True,'spin':2,'sym':False,'sc':False})"
   ]
  },
  {
   "cell_type": "code",
   "execution_count": 40,
   "metadata": {},
   "outputs": [],
   "source": [
    "for i, a in enumerate(atoms):\n",
    "    atoms[i].info['n_rad'] = 1\n",
    "    if len(a.positions) == 1:\n",
    "        atoms[i].info['grid_level'] = 1\n",
    "atoms[2].info['n_rad'] = 2\n",
    "atoms[2].info['n_ang'] = 20\n",
    "atoms[8].info['n_rad'] = 2\n",
    "atoms[10].info['n_rad'] = 2"
   ]
  },
  {
   "cell_type": "code",
   "execution_count": 41,
   "metadata": {},
   "outputs": [],
   "source": [
    "write('../data/haunschild_pbe.traj',atoms)"
   ]
  },
  {
   "cell_type": "code",
   "execution_count": 54,
   "metadata": {},
   "outputs": [],
   "source": [
    "pbe_ext = read('../data/haunschild_pbe_extended.traj','-8:')"
   ]
  },
  {
   "cell_type": "code",
   "execution_count": 60,
   "metadata": {},
   "outputs": [],
   "source": [
    "write('../data/haunschild_scan_extended.traj', read('../data/haunschild_scan.traj',':') + pbe_ext)"
   ]
  },
  {
   "cell_type": "code",
   "execution_count": 42,
   "metadata": {},
   "outputs": [],
   "source": [
    "pol ={'Be':True, 'HBeH':True, 'FF':False,'OCO':True,'ClCl':True, 'OO':True}\n",
    "pol = {}"
   ]
  },
  {
   "cell_type": "code",
   "execution_count": 43,
   "metadata": {},
   "outputs": [],
   "source": [
    "# select = [0, 1, 2, 3, 4, 6, 8, 9, 10,11]\n",
    "select = [-8, -7, -6, -5, -4, -3, -2]\n",
    "# select = [2]\n",
    "# select = [9, 13]\n",
    "# select = [7]\n",
    "# select = [9]\n",
    "# select = [0,14]\n",
    "# select = [4]\n",
    "atoms = [atoms[sel] for sel in select]\n",
    "indices = [indices[sel] for sel in select] "
   ]
  },
  {
   "cell_type": "code",
   "execution_count": 50,
   "metadata": {},
   "outputs": [],
   "source": [
    "atoms_new = read('../data/haunschild_g2/g2_97.traj','107:109')\n",
    "indices = [0]\n",
    "pol = {}\n",
    "# atoms[0].info['spin'] = 2"
   ]
  },
  {
   "cell_type": "code",
   "execution_count": 51,
   "metadata": {},
   "outputs": [],
   "source": [
    "atoms_new[0].info.update({'pol':True, 'grid_level':1, 'sym':False, 'radical':True})\n",
    "atoms_new[1].info.update({'pol':True, 'grid_level':1, 'sym':False, 'radical':True})"
   ]
  },
  {
   "cell_type": "code",
   "execution_count": 52,
   "metadata": {},
   "outputs": [
    {
     "ename": "SyntaxError",
     "evalue": "invalid syntax (<ipython-input-52-c29b4b12fdb6>, line 1)",
     "output_type": "error",
     "traceback": [
      "\u001b[0;36m  File \u001b[0;32m\"<ipython-input-52-c29b4b12fdb6>\"\u001b[0;36m, line \u001b[0;32m1\u001b[0m\n\u001b[0;31m    from ase.ui\u001b[0m\n\u001b[0m               ^\u001b[0m\n\u001b[0;31mSyntaxError\u001b[0m\u001b[0;31m:\u001b[0m invalid syntax\n"
     ]
    }
   ],
   "source": [
    "from ase.ui"
   ]
  },
  {
   "cell_type": "code",
   "execution_count": 53,
   "metadata": {},
   "outputs": [
    {
     "data": {
      "text/plain": [
       "0.13391736750216957"
      ]
     },
     "execution_count": 53,
     "metadata": {},
     "output_type": "execute_result"
    }
   ],
   "source": [
    "atoms_new[1].get_potential_energy()/Hartree"
   ]
  },
  {
   "cell_type": "code",
   "execution_count": 54,
   "metadata": {},
   "outputs": [],
   "source": [
    "atoms = read('../data/haunschild_pbe_extended.traj',':')"
   ]
  },
  {
   "cell_type": "code",
   "execution_count": 55,
   "metadata": {},
   "outputs": [],
   "source": [
    "write('../data/haunschild_pbe_radical.traj', atoms + atoms_new)"
   ]
  },
  {
   "cell_type": "code",
   "execution_count": 56,
   "metadata": {},
   "outputs": [],
   "source": [
    "atoms = read('../data/haunschild_scan_extended.traj',':')\n",
    "write('../data/haunschild_scan_radical.traj', atoms + atoms_new)"
   ]
  },
  {
   "cell_type": "code",
   "execution_count": 57,
   "metadata": {},
   "outputs": [],
   "source": [
    "write('../data/radicals.traj',atoms_new)"
   ]
  },
  {
   "cell_type": "code",
   "execution_count": 27,
   "metadata": {},
   "outputs": [
    {
     "data": {
      "text/plain": [
       "{'H2': True, 'name': 'Dihydrogen', 'n_rad': 1, 'n_ang': 10, 'pol': False}"
      ]
     },
     "execution_count": 27,
     "metadata": {},
     "output_type": "execute_result"
    }
   ],
   "source": [
    "atoms[0].info"
   ]
  },
  {
   "cell_type": "code",
   "execution_count": 21,
   "metadata": {},
   "outputs": [
    {
     "data": {
      "text/plain": [
       "[Atoms(symbols='CH', pbc=False, calculator=SinglePointCalculator(...))]"
      ]
     },
     "execution_count": 21,
     "metadata": {},
     "output_type": "execute_result"
    }
   ],
   "source": [
    "atoms"
   ]
  },
  {
   "cell_type": "code",
   "execution_count": 22,
   "metadata": {},
   "outputs": [
    {
     "data": {
      "text/plain": [
       "{'CH': True, 'name': 'Methylidyne radical', 'openshell': True}"
      ]
     },
     "execution_count": 22,
     "metadata": {},
     "output_type": "execute_result"
    }
   ],
   "source": [
    "atoms[0].info"
   ]
  },
  {
   "cell_type": "code",
   "execution_count": 24,
   "metadata": {},
   "outputs": [
    {
     "name": "stdout",
     "output_type": "stream",
     "text": [
      "Atoms(symbols='CH', pbc=False, calculator=SinglePointCalculator(...))\n",
      "6-311++G(3df,2pd)\n",
      "converged SCF energy = -38.4289681580037  <S^2> = 0.75294916  2S+1 = 2.002947\n",
      "Loading reference density\n",
      "converged SCF energy = -38.4289681580037  <S^2> = 0.75294916  2S+1 = 2.002947\n"
     ]
    },
    {
     "ename": "AssertionError",
     "evalue": "",
     "output_type": "error",
     "traceback": [
      "\u001b[0;31m---------------------------------------------------------------------------\u001b[0m",
      "\u001b[0;31mAssertionError\u001b[0m                            Traceback (most recent call last)",
      "\u001b[0;32m<ipython-input-24-3f6aa9f912da>\u001b[0m in \u001b[0;36m<module>\u001b[0;34m\u001b[0m\n\u001b[1;32m     29\u001b[0m \u001b[0;31m#                           ref_path='../data/ref/6-311/', ref_index= idx,ref_basis='6-311++G(3df,2pd)') for idx, d in zip(indices, atoms)]\u001b[0m\u001b[0;34m\u001b[0m\u001b[0;34m\u001b[0m\u001b[0;34m\u001b[0m\u001b[0m\n\u001b[1;32m     30\u001b[0m \u001b[0;34m\u001b[0m\u001b[0m\n\u001b[0;32m---> 31\u001b[0;31m baseline = [get_datapoint(d, basis=basis, grid_level=1,\n\u001b[0m\u001b[1;32m     32\u001b[0m                           \u001b[0mxc\u001b[0m\u001b[0;34m=\u001b[0m\u001b[0;34m'PBE'\u001b[0m\u001b[0;34m,\u001b[0m\u001b[0mzsym\u001b[0m\u001b[0;34m=\u001b[0m\u001b[0md\u001b[0m\u001b[0;34m.\u001b[0m\u001b[0minfo\u001b[0m\u001b[0;34m.\u001b[0m\u001b[0mget\u001b[0m\u001b[0;34m(\u001b[0m\u001b[0;34m'sym'\u001b[0m\u001b[0;34m,\u001b[0m \u001b[0;32mFalse\u001b[0m\u001b[0;34m)\u001b[0m\u001b[0;34m,\u001b[0m\u001b[0;34m\u001b[0m\u001b[0;34m\u001b[0m\u001b[0m\n\u001b[1;32m     33\u001b[0m \u001b[0;31m#                           n_rad=d.info.get('n_rad',2), n_ang=d.info.get('n_ang',15),\u001b[0m\u001b[0;34m\u001b[0m\u001b[0;34m\u001b[0m\u001b[0;34m\u001b[0m\u001b[0m\n",
      "\u001b[0;32m<ipython-input-24-3f6aa9f912da>\u001b[0m in \u001b[0;36m<listcomp>\u001b[0;34m(.0)\u001b[0m\n\u001b[1;32m     29\u001b[0m \u001b[0;31m#                           ref_path='../data/ref/6-311/', ref_index= idx,ref_basis='6-311++G(3df,2pd)') for idx, d in zip(indices, atoms)]\u001b[0m\u001b[0;34m\u001b[0m\u001b[0;34m\u001b[0m\u001b[0;34m\u001b[0m\u001b[0m\n\u001b[1;32m     30\u001b[0m \u001b[0;34m\u001b[0m\u001b[0m\n\u001b[0;32m---> 31\u001b[0;31m baseline = [get_datapoint(d, basis=basis, grid_level=1,\n\u001b[0m\u001b[1;32m     32\u001b[0m                           \u001b[0mxc\u001b[0m\u001b[0;34m=\u001b[0m\u001b[0;34m'PBE'\u001b[0m\u001b[0;34m,\u001b[0m\u001b[0mzsym\u001b[0m\u001b[0;34m=\u001b[0m\u001b[0md\u001b[0m\u001b[0;34m.\u001b[0m\u001b[0minfo\u001b[0m\u001b[0;34m.\u001b[0m\u001b[0mget\u001b[0m\u001b[0;34m(\u001b[0m\u001b[0;34m'sym'\u001b[0m\u001b[0;34m,\u001b[0m \u001b[0;32mFalse\u001b[0m\u001b[0;34m)\u001b[0m\u001b[0;34m,\u001b[0m\u001b[0;34m\u001b[0m\u001b[0;34m\u001b[0m\u001b[0m\n\u001b[1;32m     33\u001b[0m \u001b[0;31m#                           n_rad=d.info.get('n_rad',2), n_ang=d.info.get('n_ang',15),\u001b[0m\u001b[0;34m\u001b[0m\u001b[0;34m\u001b[0m\u001b[0;34m\u001b[0m\u001b[0m\n",
      "\u001b[0;32m~/dpyscf/dpyscf/utils.py\u001b[0m in \u001b[0;36mget_datapoint\u001b[0;34m(atoms, xc, basis, ncore, grid_level, nl_cutoff, grid_deriv, init_guess, ml_basis, do_fcenter, zsym, n_rad, n_ang, spin, pol, ref_basis, ref_path, ref_index)\u001b[0m\n\u001b[1;32m    334\u001b[0m             \u001b[0mfeatures\u001b[0m\u001b[0;34m.\u001b[0m\u001b[0mupdate\u001b[0m\u001b[0;34m(\u001b[0m\u001b[0;34m{\u001b[0m\u001b[0;34m'L'\u001b[0m\u001b[0;34m:\u001b[0m \u001b[0mnp\u001b[0m\u001b[0;34m.\u001b[0m\u001b[0meye\u001b[0m\u001b[0;34m(\u001b[0m\u001b[0mdm_init\u001b[0m\u001b[0;34m.\u001b[0m\u001b[0mshape\u001b[0m\u001b[0;34m[\u001b[0m\u001b[0;34m-\u001b[0m\u001b[0;36m1\u001b[0m\u001b[0;34m]\u001b[0m\u001b[0;34m)\u001b[0m\u001b[0;34m,\u001b[0m \u001b[0;34m'scaling'\u001b[0m\u001b[0;34m:\u001b[0m \u001b[0mnp\u001b[0m\u001b[0;34m.\u001b[0m\u001b[0mones\u001b[0m\u001b[0;34m(\u001b[0m\u001b[0;34m[\u001b[0m\u001b[0mdm_init\u001b[0m\u001b[0;34m.\u001b[0m\u001b[0mshape\u001b[0m\u001b[0;34m[\u001b[0m\u001b[0;34m-\u001b[0m\u001b[0;36m1\u001b[0m\u001b[0;34m]\u001b[0m\u001b[0;34m]\u001b[0m\u001b[0;34m*\u001b[0m\u001b[0;36m2\u001b[0m\u001b[0;34m)\u001b[0m\u001b[0;34m}\u001b[0m\u001b[0;34m)\u001b[0m\u001b[0;34m\u001b[0m\u001b[0;34m\u001b[0m\u001b[0m\n\u001b[1;32m    335\u001b[0m         \u001b[0;32mif\u001b[0m \u001b[0mspin\u001b[0m \u001b[0;34m!=\u001b[0m \u001b[0;36m0\u001b[0m \u001b[0;32mor\u001b[0m \u001b[0mpol\u001b[0m\u001b[0;34m:\u001b[0m\u001b[0;34m\u001b[0m\u001b[0;34m\u001b[0m\u001b[0m\n\u001b[0;32m--> 336\u001b[0;31m             \u001b[0mrho_a\u001b[0m \u001b[0;34m=\u001b[0m \u001b[0mget_rho\u001b[0m\u001b[0;34m(\u001b[0m\u001b[0mmf\u001b[0m\u001b[0;34m,\u001b[0m \u001b[0mmol_ref\u001b[0m\u001b[0;34m,\u001b[0m \u001b[0mdm_base\u001b[0m\u001b[0;34m[\u001b[0m\u001b[0;36m0\u001b[0m\u001b[0;34m]\u001b[0m\u001b[0;34m,\u001b[0m \u001b[0mmf\u001b[0m\u001b[0;34m.\u001b[0m\u001b[0mgrids\u001b[0m\u001b[0;34m)\u001b[0m\u001b[0;34m\u001b[0m\u001b[0;34m\u001b[0m\u001b[0m\n\u001b[0m\u001b[1;32m    337\u001b[0m             \u001b[0mrho_b\u001b[0m \u001b[0;34m=\u001b[0m \u001b[0mget_rho\u001b[0m\u001b[0;34m(\u001b[0m\u001b[0mmf\u001b[0m\u001b[0;34m,\u001b[0m \u001b[0mmol_ref\u001b[0m\u001b[0;34m,\u001b[0m \u001b[0mdm_base\u001b[0m\u001b[0;34m[\u001b[0m\u001b[0;36m1\u001b[0m\u001b[0;34m]\u001b[0m\u001b[0;34m,\u001b[0m \u001b[0mmf\u001b[0m\u001b[0;34m.\u001b[0m\u001b[0mgrids\u001b[0m\u001b[0;34m)\u001b[0m\u001b[0;34m\u001b[0m\u001b[0;34m\u001b[0m\u001b[0m\n\u001b[1;32m    338\u001b[0m             \u001b[0mrho\u001b[0m \u001b[0;34m=\u001b[0m \u001b[0mnp\u001b[0m\u001b[0;34m.\u001b[0m\u001b[0mstack\u001b[0m\u001b[0;34m(\u001b[0m\u001b[0;34m[\u001b[0m\u001b[0mrho_a\u001b[0m\u001b[0;34m,\u001b[0m\u001b[0mrho_b\u001b[0m\u001b[0;34m]\u001b[0m\u001b[0;34m,\u001b[0m\u001b[0maxis\u001b[0m\u001b[0;34m=\u001b[0m\u001b[0;36m0\u001b[0m\u001b[0;34m)\u001b[0m\u001b[0;34m\u001b[0m\u001b[0;34m\u001b[0m\u001b[0m\n",
      "\u001b[0;32m~/dpyscf/dpyscf/utils.py\u001b[0m in \u001b[0;36mget_rho\u001b[0;34m(mf, mol, dm, grids)\u001b[0m\n\u001b[1;32m    363\u001b[0m \u001b[0;34m\u001b[0m\u001b[0m\n\u001b[1;32m    364\u001b[0m     \u001b[0mao_eval\u001b[0m \u001b[0;34m=\u001b[0m \u001b[0mmf\u001b[0m\u001b[0;34m.\u001b[0m\u001b[0m_numint\u001b[0m\u001b[0;34m.\u001b[0m\u001b[0meval_ao\u001b[0m\u001b[0;34m(\u001b[0m\u001b[0mmol\u001b[0m\u001b[0;34m,\u001b[0m \u001b[0mgrids\u001b[0m\u001b[0;34m.\u001b[0m\u001b[0mcoords\u001b[0m\u001b[0;34m)\u001b[0m\u001b[0;34m\u001b[0m\u001b[0;34m\u001b[0m\u001b[0m\n\u001b[0;32m--> 365\u001b[0;31m     \u001b[0mrho\u001b[0m \u001b[0;34m=\u001b[0m \u001b[0mmf\u001b[0m\u001b[0;34m.\u001b[0m\u001b[0m_numint\u001b[0m\u001b[0;34m.\u001b[0m\u001b[0meval_rho\u001b[0m\u001b[0;34m(\u001b[0m\u001b[0mmol\u001b[0m\u001b[0;34m,\u001b[0m \u001b[0mao_eval\u001b[0m\u001b[0;34m,\u001b[0m \u001b[0mdm\u001b[0m\u001b[0;34m)\u001b[0m\u001b[0;34m\u001b[0m\u001b[0;34m\u001b[0m\u001b[0m\n\u001b[0m\u001b[1;32m    366\u001b[0m     \u001b[0;32mreturn\u001b[0m \u001b[0mrho\u001b[0m\u001b[0;34m\u001b[0m\u001b[0;34m\u001b[0m\u001b[0m\n\u001b[1;32m    367\u001b[0m \u001b[0;34m\u001b[0m\u001b[0m\n",
      "\u001b[0;32m~/miniconda3/envs/torch/lib/python3.8/site-packages/pyscf/dft/numint.py\u001b[0m in \u001b[0;36meval_rho\u001b[0;34m(self, mol, ao, dm, non0tab, xctype, hermi, verbose)\u001b[0m\n\u001b[1;32m   1975\u001b[0m     \u001b[0;34m@\u001b[0m\u001b[0mlib\u001b[0m\u001b[0;34m.\u001b[0m\u001b[0mwith_doc\u001b[0m\u001b[0;34m(\u001b[0m\u001b[0meval_rho\u001b[0m\u001b[0;34m.\u001b[0m\u001b[0m__doc__\u001b[0m\u001b[0;34m)\u001b[0m\u001b[0;34m\u001b[0m\u001b[0;34m\u001b[0m\u001b[0m\n\u001b[1;32m   1976\u001b[0m     \u001b[0;32mdef\u001b[0m \u001b[0meval_rho\u001b[0m\u001b[0;34m(\u001b[0m\u001b[0mself\u001b[0m\u001b[0;34m,\u001b[0m \u001b[0mmol\u001b[0m\u001b[0;34m,\u001b[0m \u001b[0mao\u001b[0m\u001b[0;34m,\u001b[0m \u001b[0mdm\u001b[0m\u001b[0;34m,\u001b[0m \u001b[0mnon0tab\u001b[0m\u001b[0;34m=\u001b[0m\u001b[0;32mNone\u001b[0m\u001b[0;34m,\u001b[0m \u001b[0mxctype\u001b[0m\u001b[0;34m=\u001b[0m\u001b[0;34m'LDA'\u001b[0m\u001b[0;34m,\u001b[0m \u001b[0mhermi\u001b[0m\u001b[0;34m=\u001b[0m\u001b[0;36m0\u001b[0m\u001b[0;34m,\u001b[0m \u001b[0mverbose\u001b[0m\u001b[0;34m=\u001b[0m\u001b[0;32mNone\u001b[0m\u001b[0;34m)\u001b[0m\u001b[0;34m:\u001b[0m\u001b[0;34m\u001b[0m\u001b[0;34m\u001b[0m\u001b[0m\n\u001b[0;32m-> 1977\u001b[0;31m         \u001b[0;32mreturn\u001b[0m \u001b[0meval_rho\u001b[0m\u001b[0;34m(\u001b[0m\u001b[0mmol\u001b[0m\u001b[0;34m,\u001b[0m \u001b[0mao\u001b[0m\u001b[0;34m,\u001b[0m \u001b[0mdm\u001b[0m\u001b[0;34m,\u001b[0m \u001b[0mnon0tab\u001b[0m\u001b[0;34m,\u001b[0m \u001b[0mxctype\u001b[0m\u001b[0;34m,\u001b[0m \u001b[0mhermi\u001b[0m\u001b[0;34m,\u001b[0m \u001b[0mverbose\u001b[0m\u001b[0;34m)\u001b[0m\u001b[0;34m\u001b[0m\u001b[0;34m\u001b[0m\u001b[0m\n\u001b[0m\u001b[1;32m   1978\u001b[0m \u001b[0;34m\u001b[0m\u001b[0m\n\u001b[1;32m   1979\u001b[0m     def block_loop(self, mol, grids, nao=None, deriv=0, max_memory=2000,\n",
      "\u001b[0;32m~/miniconda3/envs/torch/lib/python3.8/site-packages/pyscf/dft/numint.py\u001b[0m in \u001b[0;36meval_rho\u001b[0;34m(mol, ao, dm, non0tab, xctype, hermi, verbose)\u001b[0m\n\u001b[1;32m    163\u001b[0m     \u001b[0mao_loc\u001b[0m \u001b[0;34m=\u001b[0m \u001b[0mmol\u001b[0m\u001b[0;34m.\u001b[0m\u001b[0mao_loc_nr\u001b[0m\u001b[0;34m(\u001b[0m\u001b[0;34m)\u001b[0m\u001b[0;34m\u001b[0m\u001b[0;34m\u001b[0m\u001b[0m\n\u001b[1;32m    164\u001b[0m     \u001b[0;32mif\u001b[0m \u001b[0mxctype\u001b[0m \u001b[0;34m==\u001b[0m \u001b[0;34m'LDA'\u001b[0m \u001b[0;32mor\u001b[0m \u001b[0mxctype\u001b[0m \u001b[0;34m==\u001b[0m \u001b[0;34m'HF'\u001b[0m\u001b[0;34m:\u001b[0m\u001b[0;34m\u001b[0m\u001b[0;34m\u001b[0m\u001b[0m\n\u001b[0;32m--> 165\u001b[0;31m         \u001b[0mc0\u001b[0m \u001b[0;34m=\u001b[0m \u001b[0m_dot_ao_dm\u001b[0m\u001b[0;34m(\u001b[0m\u001b[0mmol\u001b[0m\u001b[0;34m,\u001b[0m \u001b[0mao\u001b[0m\u001b[0;34m,\u001b[0m \u001b[0mdm\u001b[0m\u001b[0;34m,\u001b[0m \u001b[0mnon0tab\u001b[0m\u001b[0;34m,\u001b[0m \u001b[0mshls_slice\u001b[0m\u001b[0;34m,\u001b[0m \u001b[0mao_loc\u001b[0m\u001b[0;34m)\u001b[0m\u001b[0;34m\u001b[0m\u001b[0;34m\u001b[0m\u001b[0m\n\u001b[0m\u001b[1;32m    166\u001b[0m         \u001b[0;31m#:rho = numpy.einsum('pi,pi->p', ao, c0)\u001b[0m\u001b[0;34m\u001b[0m\u001b[0;34m\u001b[0m\u001b[0;34m\u001b[0m\u001b[0m\n\u001b[1;32m    167\u001b[0m         \u001b[0mrho\u001b[0m \u001b[0;34m=\u001b[0m \u001b[0m_contract_rho\u001b[0m\u001b[0;34m(\u001b[0m\u001b[0mao\u001b[0m\u001b[0;34m,\u001b[0m \u001b[0mc0\u001b[0m\u001b[0;34m)\u001b[0m\u001b[0;34m\u001b[0m\u001b[0;34m\u001b[0m\u001b[0m\n",
      "\u001b[0;32m~/miniconda3/envs/torch/lib/python3.8/site-packages/pyscf/dft/numint.py\u001b[0m in \u001b[0;36m_dot_ao_dm\u001b[0;34m(mol, ao, dm, non0tab, shls_slice, ao_loc, out)\u001b[0m\n\u001b[1;32m    582\u001b[0m     \u001b[0mngrids\u001b[0m\u001b[0;34m,\u001b[0m \u001b[0mnao\u001b[0m \u001b[0;34m=\u001b[0m \u001b[0mao\u001b[0m\u001b[0;34m.\u001b[0m\u001b[0mshape\u001b[0m\u001b[0;34m\u001b[0m\u001b[0;34m\u001b[0m\u001b[0m\n\u001b[1;32m    583\u001b[0m     \u001b[0;32mif\u001b[0m \u001b[0mnao\u001b[0m \u001b[0;34m<\u001b[0m \u001b[0mSWITCH_SIZE\u001b[0m\u001b[0;34m:\u001b[0m\u001b[0;34m\u001b[0m\u001b[0;34m\u001b[0m\u001b[0m\n\u001b[0;32m--> 584\u001b[0;31m         \u001b[0;32mreturn\u001b[0m \u001b[0mlib\u001b[0m\u001b[0;34m.\u001b[0m\u001b[0mdot\u001b[0m\u001b[0;34m(\u001b[0m\u001b[0mdm\u001b[0m\u001b[0;34m.\u001b[0m\u001b[0mT\u001b[0m\u001b[0;34m,\u001b[0m \u001b[0mao\u001b[0m\u001b[0;34m.\u001b[0m\u001b[0mT\u001b[0m\u001b[0;34m)\u001b[0m\u001b[0;34m.\u001b[0m\u001b[0mT\u001b[0m\u001b[0;34m\u001b[0m\u001b[0;34m\u001b[0m\u001b[0m\n\u001b[0m\u001b[1;32m    585\u001b[0m \u001b[0;34m\u001b[0m\u001b[0m\n\u001b[1;32m    586\u001b[0m     \u001b[0;32mif\u001b[0m \u001b[0;32mnot\u001b[0m \u001b[0mao\u001b[0m\u001b[0;34m.\u001b[0m\u001b[0mflags\u001b[0m\u001b[0;34m.\u001b[0m\u001b[0mf_contiguous\u001b[0m\u001b[0;34m:\u001b[0m\u001b[0;34m\u001b[0m\u001b[0;34m\u001b[0m\u001b[0m\n",
      "\u001b[0;32m~/miniconda3/envs/torch/lib/python3.8/site-packages/pyscf/lib/numpy_helper.py\u001b[0m in \u001b[0;36mdot\u001b[0;34m(a, b, alpha, c, beta)\u001b[0m\n\u001b[1;32m    729\u001b[0m     \u001b[0;32mif\u001b[0m \u001b[0matype\u001b[0m \u001b[0;34m==\u001b[0m \u001b[0mnumpy\u001b[0m\u001b[0;34m.\u001b[0m\u001b[0mfloat64\u001b[0m \u001b[0;32mand\u001b[0m \u001b[0mbtype\u001b[0m \u001b[0;34m==\u001b[0m \u001b[0mnumpy\u001b[0m\u001b[0;34m.\u001b[0m\u001b[0mfloat64\u001b[0m\u001b[0;34m:\u001b[0m\u001b[0;34m\u001b[0m\u001b[0;34m\u001b[0m\u001b[0m\n\u001b[1;32m    730\u001b[0m         \u001b[0;32mif\u001b[0m \u001b[0mc\u001b[0m \u001b[0;32mis\u001b[0m \u001b[0;32mNone\u001b[0m \u001b[0;32mor\u001b[0m \u001b[0mc\u001b[0m\u001b[0;34m.\u001b[0m\u001b[0mdtype\u001b[0m \u001b[0;34m==\u001b[0m \u001b[0mnumpy\u001b[0m\u001b[0;34m.\u001b[0m\u001b[0mfloat64\u001b[0m\u001b[0;34m:\u001b[0m\u001b[0;34m\u001b[0m\u001b[0;34m\u001b[0m\u001b[0m\n\u001b[0;32m--> 731\u001b[0;31m             \u001b[0;32mreturn\u001b[0m \u001b[0mddot\u001b[0m\u001b[0;34m(\u001b[0m\u001b[0ma\u001b[0m\u001b[0;34m,\u001b[0m \u001b[0mb\u001b[0m\u001b[0;34m,\u001b[0m \u001b[0malpha\u001b[0m\u001b[0;34m,\u001b[0m \u001b[0mc\u001b[0m\u001b[0;34m,\u001b[0m \u001b[0mbeta\u001b[0m\u001b[0;34m)\u001b[0m\u001b[0;34m\u001b[0m\u001b[0;34m\u001b[0m\u001b[0m\n\u001b[0m\u001b[1;32m    732\u001b[0m         \u001b[0;32melse\u001b[0m\u001b[0;34m:\u001b[0m\u001b[0;34m\u001b[0m\u001b[0;34m\u001b[0m\u001b[0m\n\u001b[1;32m    733\u001b[0m             \u001b[0mcr\u001b[0m \u001b[0;34m=\u001b[0m \u001b[0mnumpy\u001b[0m\u001b[0;34m.\u001b[0m\u001b[0masarray\u001b[0m\u001b[0;34m(\u001b[0m\u001b[0mc\u001b[0m\u001b[0;34m.\u001b[0m\u001b[0mreal\u001b[0m\u001b[0;34m,\u001b[0m \u001b[0morder\u001b[0m\u001b[0;34m=\u001b[0m\u001b[0;34m'C'\u001b[0m\u001b[0;34m)\u001b[0m\u001b[0;34m\u001b[0m\u001b[0;34m\u001b[0m\u001b[0m\n",
      "\u001b[0;32m~/miniconda3/envs/torch/lib/python3.8/site-packages/pyscf/lib/numpy_helper.py\u001b[0m in \u001b[0;36mddot\u001b[0;34m(a, b, alpha, c, beta)\u001b[0m\n\u001b[1;32m    673\u001b[0m         \u001b[0;31m#raise ValueError('a.flags: %s' % str(a.flags))\u001b[0m\u001b[0;34m\u001b[0m\u001b[0;34m\u001b[0m\u001b[0;34m\u001b[0m\u001b[0m\n\u001b[1;32m    674\u001b[0m \u001b[0;34m\u001b[0m\u001b[0m\n\u001b[0;32m--> 675\u001b[0;31m     \u001b[0;32massert\u001b[0m\u001b[0;34m(\u001b[0m\u001b[0mk\u001b[0m \u001b[0;34m==\u001b[0m \u001b[0mb\u001b[0m\u001b[0;34m.\u001b[0m\u001b[0mshape\u001b[0m\u001b[0;34m[\u001b[0m\u001b[0;36m0\u001b[0m\u001b[0;34m]\u001b[0m\u001b[0;34m)\u001b[0m\u001b[0;34m\u001b[0m\u001b[0;34m\u001b[0m\u001b[0m\n\u001b[0m\u001b[1;32m    676\u001b[0m     \u001b[0;32mif\u001b[0m \u001b[0mb\u001b[0m\u001b[0;34m.\u001b[0m\u001b[0mflags\u001b[0m\u001b[0;34m.\u001b[0m\u001b[0mc_contiguous\u001b[0m\u001b[0;34m:\u001b[0m\u001b[0;34m\u001b[0m\u001b[0;34m\u001b[0m\u001b[0m\n\u001b[1;32m    677\u001b[0m         \u001b[0mtrans_b\u001b[0m \u001b[0;34m=\u001b[0m \u001b[0;34m'N'\u001b[0m\u001b[0;34m\u001b[0m\u001b[0;34m\u001b[0m\u001b[0m\n",
      "\u001b[0;31mAssertionError\u001b[0m: "
     ]
    }
   ],
   "source": [
    "basis = '6-311++G(3df,2pd)'\n",
    "# basis = '6-311++G*'\n",
    "# basis = 'aug-ccpvqz'\n",
    "# basis ='3-21G'\n",
    "# basis = '6-311+G*'\n",
    "# basis = '6-311+G*'\n",
    "# basis = '6-311++G**'\n",
    "# basis = 'ccpvdz**'\n",
    "\n",
    "\n",
    "distances = np.arange(len(atoms))\n",
    "\n",
    "# baseline = [get_datapoint(d, basis=d.info.get('basis',basis), grid_level=d.info.get('grid_level', 4),\n",
    "#                           xc='PBE',zsym=d.info.get('sym',True),\n",
    "#                           n_rad=d.info.get('n_rad',30), n_ang=d.info.get('n_ang',15), \n",
    "#                           init_guess=False, spin = d.info.get('spin',0), \n",
    "#                           pol=pol.get(''.join(d.get_chemical_symbols()), False), do_fcenter=False) for idx, d in zip(indices, atoms)]\n",
    "\n",
    "# baseline = [get_datapoint(d, basis=d.info.get('basis',basis), grid_level=d.info.get('grid_level', 4),zsym=d.info.get('sym',True),\n",
    "#                           xc='PBE',n_rad=d.info.get('n_rad',45), n_ang=d.info.get('n_ang',15), \n",
    "#                           init_guess=False, spin = d.info.get('spin',0), \n",
    "#                           pol=pol.get(''.join(d.get_chemical_symbols()), False), do_fcenter=False) for idx, d in zip(indices, atoms)]\n",
    "# baseline = [get_datapoint(d, basis=d.info.get('basis',basis), grid_level=d.info.get('grid_level',7),\n",
    "#                           xc='PBE',zsym=d.info.get('sym', True),\n",
    "#                           n_rad=d.info.get('n_rad',2), n_ang=d.info.get('n_ang',15), \n",
    "# #                           n_rad=2, n_ang=20, \n",
    "#                           init_guess=False, spin = d.info.get('spin',0), \n",
    "#                           pol=pol.get(''.join(d.get_chemical_symbols()), False), do_fcenter=False,\n",
    "#                           ref_path='../data/ref/6-311/', ref_index= idx,ref_basis='6-311++G(3df,2pd)') for idx, d in zip(indices, atoms)]\n",
    "\n",
    "baseline = [get_datapoint(d, basis=basis, grid_level=1,\n",
    "                          xc='PBE',zsym=d.info.get('sym', False),\n",
    "#                           n_rad=d.info.get('n_rad',2), n_ang=d.info.get('n_ang',15), \n",
    "                          n_rad=2, n_ang=20, \n",
    "                          init_guess=False, spin = d.info.get('spin',0), \n",
    "                          pol=pol.get(''.join(d.get_chemical_symbols()), False), do_fcenter=False,\n",
    "                          ref_path='../data/ref/6-311/', ref_index= idx,ref_basis='6-311++G(3df,2pd)') for idx, d in zip(indices, atoms)]\n",
    "# baseline = [get_datapoint(d, basis=d.info.get('basis',basis), grid_level=d.info.get('grid_level', 5),\n",
    "#                           xc='wb97mv',zsym=d.info.get('sym',True),\n",
    "#                           n_rad=d.info.get('n_rad',30), n_ang=d.info.get('n_ang',15), \n",
    "#                           init_guess=False, spin = d.info.get('spin',0), \n",
    "#                           pol=pol.get(''.join(d.get_chemical_symbols()), False), do_fcenter=False) for idx, d in zip(indices, atoms)]\n",
    "\n",
    "E_base =  [r[0] for r in baseline]\n",
    "DM_base = [r[1] for r in baseline]\n",
    "inputs = [r[2] for r in baseline]\n",
    "inputs = {key: [i.get(key,None) for i in inputs] for key in inputs[0]}\n",
    "\n",
    "DM_ref = DM_base\n",
    "E_ref = E_base"
   ]
  },
  {
   "cell_type": "code",
   "execution_count": 62,
   "metadata": {},
   "outputs": [
    {
     "data": {
      "text/plain": [
       "-76.3780804577075"
      ]
     },
     "execution_count": 62,
     "metadata": {},
     "output_type": "execute_result"
    }
   ],
   "source": [
    "-38.4289700721354 "
   ]
  },
  {
   "cell_type": "code",
   "execution_count": 10,
   "metadata": {},
   "outputs": [
    {
     "data": {
      "text/plain": [
       "array([0, 1, 2, 3, 4, 5, 6, 7, 8, 9])"
      ]
     },
     "execution_count": 10,
     "metadata": {},
     "output_type": "execute_result"
    }
   ],
   "source": [
    "dataset = Dataset(Etot = E_ref, dm = DM_ref, **inputs)\n",
    "\n",
    "train_idx = np.arange(len(distances))\n",
    "# train_idx = [0]\n",
    "inputs_train = {key: [inputs[key][idx] for idx in train_idx] for key in inputs}\n",
    "E_ref_train = [E_ref[i] for i in train_idx]\n",
    "DM_ref_train = [DM_ref[i] for i in train_idx]\n",
    "dataset_train = Dataset(Etot = E_ref_train, dm = DM_ref_train, **inputs_train)\n",
    "\n",
    "dataloader = torch.utils.data.DataLoader(dataset, batch_size=1, shuffle=False) # Dont change batch size !\n",
    "dataloader_train = torch.utils.data.DataLoader(dataset_train, batch_size=1, shuffle=False) # Dont change batch size !\n",
    "\n",
    "train_idx"
   ]
  },
  {
   "cell_type": "code",
   "execution_count": 3,
   "metadata": {},
   "outputs": [],
   "source": [
    "atoms = read('../data/haunschild_scan_extended.traj',':')\n",
    "#     atoms = read(dpyscf_dir + '/data/haunschild_pbe.traj',':')\n",
    "# atoms = read(dpyscf_dir + '/data/haunschild_test.traj',':')\n",
    "indices = np.arange(len(atoms)).tolist()\n",
    "xctype = 'SCAN'\n",
    "HYBRID=False\n",
    "if xctype == 'GGA':\n",
    "#         pop = [12, 8, 7,  5, 4]\n",
    "    pop = [12, 8, 7,  5, 4]\n",
    "    if HYBRID:\n",
    "    #              pop = [29, 28, 27, 26, 25, 24, 23, 22, 21, 12, 7,  5, 2] # (Hybrid GGA)\n",
    "        pop = [21, 12, 7,  5, 2] # (Hybrid GGA)\n",
    "else:\n",
    "    pop = [21, 12, 11, 10, 8, 7, 5, 4, 3, 0] # (Meta-GGA)\n",
    "#         pop = [ 12, 11, 10, 9, 8, 7, 6, 5, 4, 3, 1, 0] # (Meta-GGA)\n",
    "# pop = []\n",
    "[atoms.pop(i) for i in pop]\n",
    "[indices.pop(i) for i in pop]\n",
    "dataset = MemDatasetRead('/gpfs/scratch/smdick/.data_scan_extended', skip=pop)\n",
    "\n",
    "dataset_train = dataset\n",
    "\n",
    "dataloader = torch.utils.data.DataLoader(dataset, batch_size=1, shuffle=False) # Dont change batch size !\n",
    "dataloader_train = torch.utils.data.DataLoader(dataset_train, batch_size=1, shuffle=False) # Dont change batch size !"
   ]
  },
  {
   "cell_type": "code",
   "execution_count": 4,
   "metadata": {},
   "outputs": [],
   "source": [
    "molecules = {'{:3d}'.format(idx) + ''.join(a.get_chemical_symbols()): [idx] for idx, a in enumerate(atoms) if len(a.positions) > 1 }\n",
    "pure_atoms = {''.join(a.get_chemical_symbols()): [idx] for idx, a in enumerate(atoms) if len(a.positions) == 1 }\n",
    "\n",
    "def split(el):\n",
    "        import re\n",
    "        res_list = [s for s in re.split(\"([A-Z][^A-Z]*)\", el) if s]\n",
    "        return res_list\n",
    "\n",
    "for molecule in molecules:\n",
    "    comp = []\n",
    "    for a in split(molecule[3:]):\n",
    "        comp.append(pure_atoms[a][0])\n",
    "    molecules[molecule] += comp\n",
    "\n",
    "a_count = {a: np.sum([a in molecules[mol] for mol in molecules]) for a in np.unique([m  for mol in molecules for m in molecules[mol]])}"
   ]
  },
  {
   "cell_type": "code",
   "execution_count": 5,
   "metadata": {},
   "outputs": [
    {
     "name": "stdout",
     "output_type": "stream",
     "text": [
      "Loading pre-trained models from ../models/pretrained/scan/\n"
     ]
    }
   ],
   "source": [
    "scf = get_scf('MGGA', '../models/pretrained/scan/')"
   ]
  },
  {
   "cell_type": "code",
   "execution_count": 6,
   "metadata": {},
   "outputs": [],
   "source": [
    "scf.nsteps = 1"
   ]
  },
  {
   "cell_type": "code",
   "execution_count": 7,
   "metadata": {},
   "outputs": [],
   "source": [
    "select = [0]"
   ]
  },
  {
   "cell_type": "code",
   "execution_count": 8,
   "metadata": {},
   "outputs": [
    {
     "name": "stdout",
     "output_type": "stream",
     "text": [
      "0\n",
      "Computing 0\n",
      "1\n",
      "2\n",
      "3\n",
      "4\n",
      "5\n",
      "6\n",
      "7\n",
      "8\n",
      "9\n",
      "10\n",
      "11\n",
      "12\n",
      "13\n",
      "14\n",
      "15\n",
      "16\n",
      "17\n",
      "18\n",
      "19\n",
      "[-109.5548431]\n"
     ]
    },
    {
     "ename": "IndexError",
     "evalue": "index -2 is out of bounds for axis 1 with size 1",
     "output_type": "error",
     "traceback": [
      "\u001b[0;31m---------------------------------------------------------------------------\u001b[0m",
      "\u001b[0;31mIndexError\u001b[0m                                Traceback (most recent call last)",
      "\u001b[0;32m<ipython-input-8-1544a6ad7273>\u001b[0m in \u001b[0;36m<module>\u001b[0;34m\u001b[0m\n\u001b[1;32m     25\u001b[0m \u001b[0mplot\u001b[0m\u001b[0;34m(\u001b[0m\u001b[0mnp\u001b[0m\u001b[0;34m.\u001b[0m\u001b[0marray\u001b[0m\u001b[0;34m(\u001b[0m\u001b[0mEs\u001b[0m\u001b[0;34m)\u001b[0m\u001b[0;34m.\u001b[0m\u001b[0mT\u001b[0m\u001b[0;34m)\u001b[0m\u001b[0;34m\u001b[0m\u001b[0;34m\u001b[0m\u001b[0m\n\u001b[1;32m     26\u001b[0m \u001b[0mprint\u001b[0m\u001b[0;34m(\u001b[0m\u001b[0mnp\u001b[0m\u001b[0;34m.\u001b[0m\u001b[0marray\u001b[0m\u001b[0;34m(\u001b[0m\u001b[0mEs\u001b[0m\u001b[0;34m)\u001b[0m\u001b[0;34m[\u001b[0m\u001b[0;34m:\u001b[0m\u001b[0;34m,\u001b[0m\u001b[0;34m-\u001b[0m\u001b[0;36m1\u001b[0m\u001b[0;34m]\u001b[0m\u001b[0;34m)\u001b[0m\u001b[0;34m\u001b[0m\u001b[0;34m\u001b[0m\u001b[0m\n\u001b[0;32m---> 27\u001b[0;31m \u001b[0mprint\u001b[0m\u001b[0;34m(\u001b[0m\u001b[0mnp\u001b[0m\u001b[0;34m.\u001b[0m\u001b[0marray\u001b[0m\u001b[0;34m(\u001b[0m\u001b[0mEs\u001b[0m\u001b[0;34m)\u001b[0m\u001b[0;34m[\u001b[0m\u001b[0;34m:\u001b[0m\u001b[0;34m,\u001b[0m\u001b[0;34m-\u001b[0m\u001b[0;36m1\u001b[0m\u001b[0;34m]\u001b[0m\u001b[0;34m-\u001b[0m\u001b[0mnp\u001b[0m\u001b[0;34m.\u001b[0m\u001b[0marray\u001b[0m\u001b[0;34m(\u001b[0m\u001b[0mEs\u001b[0m\u001b[0;34m)\u001b[0m\u001b[0;34m[\u001b[0m\u001b[0;34m:\u001b[0m\u001b[0;34m,\u001b[0m\u001b[0;34m-\u001b[0m\u001b[0;36m2\u001b[0m\u001b[0;34m]\u001b[0m\u001b[0;34m)\u001b[0m\u001b[0;34m\u001b[0m\u001b[0;34m\u001b[0m\u001b[0m\n\u001b[0m",
      "\u001b[0;31mIndexError\u001b[0m: index -2 is out of bounds for axis 1 with size 1"
     ]
    },
    {
     "data": {
      "image/png": "[encoded data removed]",
      "text/plain": [
       "<Figure size 432x288 with 1 Axes>"
      ]
     },
     "metadata": {
      "needs_background": "light"
     },
     "output_type": "display_data"
    }
   ],
   "source": [
    "Es = []\n",
    "E_pretrained = []\n",
    "cnt = 0 \n",
    "for dm_init, matrices, e_ref, dm_ref in dataloader_train:\n",
    "    print(cnt)\n",
    "    cnt += 1\n",
    "    if cnt-1 not in select: continue\n",
    "    print('Computing', cnt -1)\n",
    "    dm_init = dm_init.to(DEVICE)\n",
    "    e_ref = e_ref.to(DEVICE)\n",
    "    dm_ref = dm_ref.to(DEVICE)\n",
    "    matrices = {key:matrices[key].to(DEVICE) for key in matrices}\n",
    "    \n",
    "#     rand_dm = torch.randn(dm_init.size(),device=dm_init.device)*1e-3*dm_init*0\n",
    "#     rand_dm[0] += rand_dm[0].T\n",
    "    E_pretrained.append(matrices['e_pretrained'])\n",
    "#     results = scf.forward(dm_init+rand_dm, matrices)\n",
    "#     results = scf.forward(matrices['dm_realinit'], matrices)\n",
    "    results = scf.forward(dm_init, matrices)\n",
    "#     results = scf.forward(dm_init, matrices)\n",
    "    E = results['E']\n",
    "    Es.append(E.detach().cpu().numpy())\n",
    "#     break\n",
    "    \n",
    "plot(np.array(Es).T)\n",
    "print(np.array(Es)[:,-1])\n",
    "print(np.array(Es)[:,-1]-np.array(Es)[:,-2])"
   ]
  },
  {
   "cell_type": "code",
   "execution_count": 150,
   "metadata": {},
   "outputs": [
    {
     "data": {
      "text/plain": [
       "tensor([-109.5178])"
      ]
     },
     "execution_count": 150,
     "metadata": {},
     "output_type": "execute_result"
    }
   ],
   "source": [
    "dataloader_train.__iter__().__next__()[1]['e_pretrained']"
   ]
  },
  {
   "cell_type": "code",
   "execution_count": 138,
   "metadata": {},
   "outputs": [
    {
     "data": {
      "text/plain": [
       "[<matplotlib.lines.Line2D at 0x2aab4e196940>]"
      ]
     },
     "execution_count": 138,
     "metadata": {},
     "output_type": "execute_result"
    },
    {
     "data": {
      "image/png": "[encoded data removed]",
      "text/plain": [
       "<Figure size 432x288 with 1 Axes>"
      ]
     },
     "metadata": {
      "needs_background": "light"
     },
     "output_type": "display_data"
    }
   ],
   "source": [
    "plot(np.array(Es).T)\n",
    "# print(np.array(Es)[:,-1])\n",
    "# print(np.array(Es)[:,-1]-np.array(Es)[:,-2])"
   ]
  },
  {
   "cell_type": "code",
   "execution_count": 47,
   "metadata": {},
   "outputs": [
    {
     "data": {
      "text/plain": [
       "<matplotlib.image.AxesImage at 0x2aab58300550>"
      ]
     },
     "execution_count": 47,
     "metadata": {},
     "output_type": "execute_result"
    },
    {
     "data": {
      "image/png": "[encoded data removed]",
      "text/plain": [
       "<Figure size 432x288 with 1 Axes>"
      ]
     },
     "metadata": {
      "needs_background": "light"
     },
     "output_type": "display_data"
    }
   ],
   "source": [
    "imshow(scf.vxc.detach().numpy())"
   ]
  },
  {
   "cell_type": "code",
   "execution_count": 87,
   "metadata": {},
   "outputs": [],
   "source": [
    "for par in scf.parameters():\n",
    "    par.requires_grad = False"
   ]
  },
  {
   "cell_type": "code",
   "execution_count": 97,
   "metadata": {},
   "outputs": [],
   "source": [
    "xc.model_mult[0].requires_grad=True\n",
    "xc.model_mult[1].requires_grad=True\n",
    "scf.get_veff.a.requires_grad=True"
   ]
  },
  {
   "cell_type": "code",
   "execution_count": 98,
   "metadata": {},
   "outputs": [],
   "source": [
    "optimizer = torch.optim.Adam([xc.model_mult[0],xc.model_mult[1],scf.get_veff.a],\n",
    "                         lr=0.001,weight_decay=0)"
   ]
  },
  {
   "cell_type": "code",
   "execution_count": 99,
   "metadata": {},
   "outputs": [
    {
     "name": "stdout",
     "output_type": "stream",
     "text": [
      "0\n",
      "1\n",
      "Epoch 0 || [' E : 1.583174', ' rho : 1.824794', ' Conv : 0.112509', ' ae : 0.000000'] || total loss 18.247950\n",
      "0\n",
      "1\n",
      "Epoch 1 || [' E : 2.596227', ' rho : 1.740413', ' Conv : 0.032905', ' ae : 0.000000'] || total loss 17.404151\n",
      "0\n",
      "1\n",
      "Epoch 2 || [' E : 3.502052', ' rho : 1.666289', ' Conv : 0.128840', ' ae : 0.000000'] || total loss 16.662928\n",
      "0\n",
      "1\n",
      "Epoch 3 || [' E : 4.448710', ' rho : 1.604090', ' Conv : 0.131738', ' ae : 0.000000'] || total loss 16.040958\n",
      "0\n",
      "1\n"
     ]
    },
    {
     "ename": "KeyboardInterrupt",
     "evalue": "",
     "output_type": "error",
     "traceback": [
      "\u001b[0;31m---------------------------------------------------------------------------\u001b[0m",
      "\u001b[0;31mKeyboardInterrupt\u001b[0m                         Traceback (most recent call last)",
      "\u001b[0;32m<ipython-input-99-7b08445baaba>\u001b[0m in \u001b[0;36m<module>\u001b[0;34m\u001b[0m\n\u001b[1;32m     64\u001b[0m             \u001b[0mmixing\u001b[0m \u001b[0;34m=\u001b[0m \u001b[0mtorch\u001b[0m\u001b[0;34m.\u001b[0m\u001b[0mrand\u001b[0m\u001b[0;34m(\u001b[0m\u001b[0;36m1\u001b[0m\u001b[0;34m)\u001b[0m\u001b[0;34m\u001b[0m\u001b[0;34m\u001b[0m\u001b[0m\n\u001b[1;32m     65\u001b[0m \u001b[0;31m#             mixing = 0\u001b[0m\u001b[0;34m\u001b[0m\u001b[0;34m\u001b[0m\u001b[0;34m\u001b[0m\u001b[0m\n\u001b[0;32m---> 66\u001b[0;31m             \u001b[0mresults\u001b[0m \u001b[0;34m=\u001b[0m \u001b[0mscf\u001b[0m\u001b[0;34m(\u001b[0m\u001b[0mdm_init\u001b[0m\u001b[0;34m*\u001b[0m\u001b[0;34m(\u001b[0m\u001b[0;36m1\u001b[0m\u001b[0;34m-\u001b[0m\u001b[0mmixing\u001b[0m\u001b[0;34m)\u001b[0m \u001b[0;34m+\u001b[0m \u001b[0mdm_mix\u001b[0m\u001b[0;34m*\u001b[0m\u001b[0mmixing\u001b[0m\u001b[0;34m,\u001b[0m \u001b[0mmatrices\u001b[0m\u001b[0;34m)\u001b[0m\u001b[0;34m\u001b[0m\u001b[0;34m\u001b[0m\u001b[0m\n\u001b[0m\u001b[1;32m     67\u001b[0m             \u001b[0mresults\u001b[0m\u001b[0;34m[\u001b[0m\u001b[0;34m'dm_ref'\u001b[0m\u001b[0;34m]\u001b[0m \u001b[0;34m=\u001b[0m \u001b[0mdm_ref\u001b[0m\u001b[0;34m\u001b[0m\u001b[0;34m\u001b[0m\u001b[0m\n\u001b[1;32m     68\u001b[0m             \u001b[0mresults\u001b[0m\u001b[0;34m[\u001b[0m\u001b[0;34m'fcenter'\u001b[0m\u001b[0;34m]\u001b[0m \u001b[0;34m=\u001b[0m \u001b[0mmatrices\u001b[0m\u001b[0;34m.\u001b[0m\u001b[0mget\u001b[0m\u001b[0;34m(\u001b[0m\u001b[0;34m'fcenter'\u001b[0m\u001b[0;34m,\u001b[0m\u001b[0;32mNone\u001b[0m\u001b[0;34m)\u001b[0m\u001b[0;34m\u001b[0m\u001b[0;34m\u001b[0m\u001b[0m\n",
      "\u001b[0;32m~/miniconda3/envs/torch/lib/python3.8/site-packages/torch/nn/modules/module.py\u001b[0m in \u001b[0;36m_call_impl\u001b[0;34m(self, *input, **kwargs)\u001b[0m\n\u001b[1;32m    720\u001b[0m             \u001b[0mresult\u001b[0m \u001b[0;34m=\u001b[0m \u001b[0mself\u001b[0m\u001b[0;34m.\u001b[0m\u001b[0m_slow_forward\u001b[0m\u001b[0;34m(\u001b[0m\u001b[0;34m*\u001b[0m\u001b[0minput\u001b[0m\u001b[0;34m,\u001b[0m \u001b[0;34m**\u001b[0m\u001b[0mkwargs\u001b[0m\u001b[0;34m)\u001b[0m\u001b[0;34m\u001b[0m\u001b[0;34m\u001b[0m\u001b[0m\n\u001b[1;32m    721\u001b[0m         \u001b[0;32melse\u001b[0m\u001b[0;34m:\u001b[0m\u001b[0;34m\u001b[0m\u001b[0;34m\u001b[0m\u001b[0m\n\u001b[0;32m--> 722\u001b[0;31m             \u001b[0mresult\u001b[0m \u001b[0;34m=\u001b[0m \u001b[0mself\u001b[0m\u001b[0;34m.\u001b[0m\u001b[0mforward\u001b[0m\u001b[0;34m(\u001b[0m\u001b[0;34m*\u001b[0m\u001b[0minput\u001b[0m\u001b[0;34m,\u001b[0m \u001b[0;34m**\u001b[0m\u001b[0mkwargs\u001b[0m\u001b[0;34m)\u001b[0m\u001b[0;34m\u001b[0m\u001b[0;34m\u001b[0m\u001b[0m\n\u001b[0m\u001b[1;32m    723\u001b[0m         for hook in itertools.chain(\n\u001b[1;32m    724\u001b[0m                 \u001b[0m_global_forward_hooks\u001b[0m\u001b[0;34m.\u001b[0m\u001b[0mvalues\u001b[0m\u001b[0;34m(\u001b[0m\u001b[0;34m)\u001b[0m\u001b[0;34m,\u001b[0m\u001b[0;34m\u001b[0m\u001b[0;34m\u001b[0m\u001b[0m\n",
      "\u001b[0;32m~/torch_pyscf/torch_routines.py\u001b[0m in \u001b[0;36mforward\u001b[0;34m(self, dm, matrices)\u001b[0m\n\u001b[1;32m    169\u001b[0m                 \u001b[0mself\u001b[0m\u001b[0;34m.\u001b[0m\u001b[0mxc\u001b[0m\u001b[0;34m.\u001b[0m\u001b[0mml_ovlp\u001b[0m \u001b[0;34m=\u001b[0m \u001b[0mml_ovlp\u001b[0m\u001b[0;34m\u001b[0m\u001b[0;34m\u001b[0m\u001b[0m\n\u001b[1;32m    170\u001b[0m                 \u001b[0mexc\u001b[0m \u001b[0;34m=\u001b[0m \u001b[0mself\u001b[0m\u001b[0;34m.\u001b[0m\u001b[0mxc\u001b[0m\u001b[0;34m(\u001b[0m\u001b[0mdm\u001b[0m\u001b[0;34m)\u001b[0m\u001b[0;34m\u001b[0m\u001b[0;34m\u001b[0m\u001b[0m\n\u001b[0;32m--> 171\u001b[0;31m \u001b[0;34m\u001b[0m\u001b[0m\n\u001b[0m\u001b[1;32m    172\u001b[0m                 \u001b[0mvxc\u001b[0m \u001b[0;34m=\u001b[0m \u001b[0mtorch\u001b[0m\u001b[0;34m.\u001b[0m\u001b[0mautograd\u001b[0m\u001b[0;34m.\u001b[0m\u001b[0mfunctional\u001b[0m\u001b[0;34m.\u001b[0m\u001b[0mjacobian\u001b[0m\u001b[0;34m(\u001b[0m\u001b[0mself\u001b[0m\u001b[0;34m.\u001b[0m\u001b[0mxc\u001b[0m\u001b[0;34m,\u001b[0m \u001b[0mdm\u001b[0m\u001b[0;34m,\u001b[0m \u001b[0mcreate_graph\u001b[0m\u001b[0;34m=\u001b[0m\u001b[0;32mTrue\u001b[0m\u001b[0;34m)\u001b[0m\u001b[0;34m\u001b[0m\u001b[0;34m\u001b[0m\u001b[0m\n\u001b[1;32m    173\u001b[0m                 \u001b[0;32mif\u001b[0m \u001b[0mtorch\u001b[0m\u001b[0;34m.\u001b[0m\u001b[0msum\u001b[0m\u001b[0;34m(\u001b[0m\u001b[0mmo_occ\u001b[0m\u001b[0;34m)\u001b[0m \u001b[0;34m==\u001b[0m \u001b[0;36m1\u001b[0m\u001b[0;34m:\u001b[0m   \u001b[0;31m# Otherwise H produces NaNs\u001b[0m\u001b[0;34m\u001b[0m\u001b[0;34m\u001b[0m\u001b[0m\n",
      "\u001b[0;31mKeyboardInterrupt\u001b[0m: "
     ]
    }
   ],
   "source": [
    "scf.xc.train()\n",
    "PRINT_EVERY=1\n",
    "skip_steps = 15\n",
    "\n",
    "\n",
    "# optimizer = torch.optim.Adam(scf.parameters(),\n",
    "#                          lr=0.001,weight_decay=0)\n",
    "\n",
    "# optimizer = torch.optim.SGD(scf.parameters(),\n",
    "#                          lr=0.001,momentum=0.95)\n",
    "\n",
    "MIN_RATE = 1e-7\n",
    "scheduler = torch.optim.lr_scheduler.ReduceLROnPlateau(optimizer, 'min',\n",
    "                                                       verbose=True, patience=int(10/PRINT_EVERY), \n",
    "                                                       factor=0.1, min_lr=MIN_RATE)\n",
    "\n",
    "E_mult = 1e-4\n",
    "AE_mult = 1\n",
    "DM_mult = 10\n",
    "# losses = {\"E loss\" : (partial(energy_loss, \n",
    "#                               loss = torch.nn.MSELoss(),\n",
    "#                               skip_steps=skip_steps), E_mult),\n",
    "#          \"DM loss\" : (partial(dm_loss,loss = torch.nn.MSELoss()), 0),\n",
    "#          \"rho loss\" : (partial(rho_loss,loss = torch.nn.MSELoss()), 10000),\n",
    "#          \"MOE loss\" : (partial(moe_loss,loss = torch.nn.MSELoss()), 0.01),\n",
    "#          \"GAP loss\" : (partial(gap_loss,loss = torch.nn.MSELoss(),nhomo=4), 0)}\n",
    "\n",
    "mol_losses = {\"E\" : (partial(energy_loss, \n",
    "                              loss = torch.nn.MSELoss(),\n",
    "                              skip_steps=skip_steps), E_mult),\n",
    "#          \"DM loss\" : (partial(dm_loss,loss = torch.nn.MSELoss()), 0),\n",
    "             \"rho\" : (partial(rho_loss,loss = torch.nn.MSELoss()), 1e2),\n",
    "             \"Conv\" :(partial(econv_loss,loss = torch.nn.MSELoss(),skip_steps=skip_steps), 1e-6)}\n",
    "#          \"IP\": (partial(ip_loss,loss = torch.nn.MSELoss()), 0)}\n",
    "atm_losses = {\"E\" : (partial(energy_loss, \n",
    "                              loss = torch.nn.MSELoss(),\n",
    "                              skip_steps=skip_steps), E_mult),\n",
    "               \"Conv\" :(partial(econv_loss,loss = torch.nn.MSELoss(),skip_steps=skip_steps), 1e-6)}\n",
    "ae_loss = partial(ae_loss,loss = torch.nn.MSELoss())\n",
    "chkpt_idx = 0\n",
    "for epoch in range(10000):\n",
    "    \n",
    "    running_losses = {key:0 for key in mol_losses}\n",
    "    running_losses['ae'] = 0 \n",
    "    total_loss = 0\n",
    "    atm_cnt = {}\n",
    "    \n",
    "    for molecule in molecules:\n",
    "#         print(molecule)\n",
    "        ref_dict = {}\n",
    "        pred_dict = {}\n",
    "        loss = 0\n",
    "        for idx, data in enumerate(dataloader_train):\n",
    "            if not idx in molecules[molecule]: continue\n",
    "            print(idx)\n",
    "            dm_init, matrices, e_ref, dm_ref = data\n",
    "            dm_init = dm_init.to(DEVICE)\n",
    "            e_ref = e_ref.to(DEVICE)\n",
    "            dm_ref = dm_ref.to(DEVICE)\n",
    "            matrices = {key:matrices[key].to(DEVICE) for key in matrices}\n",
    "            dm_mix = matrices['dm_realinit']\n",
    "    #         rand_dm = torch.randn(dm_init.size(),device=dm_init.device)*1e-3*dm_init*0\n",
    "    #         rand_dm[0] += rand_dm[0].T\n",
    "            mixing = torch.rand(1)\n",
    "#             mixing = 0 \n",
    "            results = scf(dm_init*(1-mixing) + dm_mix*mixing, matrices)\n",
    "            results['dm_ref'] = dm_ref\n",
    "            results['fcenter'] = matrices.get('fcenter',None)\n",
    "            results['rho'] = matrices['rho']\n",
    "            results['ao_eval'] = matrices['ao_eval']\n",
    "            results['grid_weights'] = matrices['grid_weights']\n",
    "            results['E_ref'] = e_ref\n",
    "            results['mo_energy_ref'] = matrices['mo_energy']\n",
    "            results['n_elec'] = matrices['n_elec']\n",
    "            results['e_ip_ref'] = matrices['e_ip']\n",
    "            results['mo_occ'] = matrices['mo_occ']\n",
    "            if len(atoms[idx].positions) > 1:\n",
    "                losses = mol_losses\n",
    "            else:\n",
    "                losses = atm_losses\n",
    "            losses_eval = {key: losses[key][0](results)/a_count[idx] for key in losses}\n",
    "            running_losses.update({key:running_losses[key] + \\\n",
    "                              losses_eval[key].item() for key in losses})\n",
    "            ref_dict[''.join(atoms[idx].get_chemical_symbols())] = e_ref\n",
    "            pred_dict[''.join(atoms[idx].get_chemical_symbols())] = results['E'][-1:]\n",
    "            loss += sum([losses_eval[key]*losses[key][1] for key in losses])\n",
    "\n",
    "        ael = ae_loss(ref_dict,pred_dict)\n",
    "        running_losses['ae'] += ael.item()\n",
    "        \n",
    "        loss += AE_mult * ael\n",
    "        total_loss += loss.item()\n",
    "        loss.backward()\n",
    "        optimizer.step()\n",
    "        optimizer.zero_grad()\n",
    "    #   dot = get_dot()\n",
    "    if epoch%PRINT_EVERY==0:\n",
    "        running_losses = {key:np.sqrt(running_losses[key]/len(molecules))*1000 for key in running_losses}\n",
    "        total_loss = np.sqrt(total_loss/len(molecules))*1000\n",
    "        best_loss = min(total_loss, best_loss)\n",
    "        if total_loss == best_loss:\n",
    "            torch.save(xc.state_dict(), 'model{}.chkpt'.format(chkpt_idx%2))\n",
    "            chkpt_idx += 1\n",
    "        print('Epoch {} ||'.format(epoch), [' {} : {:.6f}'.format(key,val) for key, val in running_losses.items()], '|| total loss {:.6f}'.format(total_loss))\n",
    "        scheduler.step(total_loss)\n",
    "#     if stop_early: break"
   ]
  },
  {
   "cell_type": "code",
   "execution_count": 23,
   "metadata": {},
   "outputs": [
    {
     "data": {
      "text/plain": [
       "<All keys matched successfully>"
      ]
     },
     "execution_count": 23,
     "metadata": {},
     "output_type": "execute_result"
    }
   ],
   "source": [
    "xc.load_state_dict(torch.load('./log/2020-11-20_13:48:55.665640_0.chkpt'))"
   ]
  },
  {
   "cell_type": "code",
   "execution_count": 28,
   "metadata": {},
   "outputs": [],
   "source": [
    "scf.xc.evaluate()\n",
    "\n",
    "energies = {'E_ref':[],'E_pred':[]}\n",
    "densities = {'dm_ref' : [],'dm_pred':[]}\n",
    "mo_energies = {'mo_ref':[],'mo_pred':[]}\n",
    "for data in dataloader:\n",
    "    dm_init, matrices, e_ref, dm_ref = data\n",
    "    dm_init = matrices['dm_realinit']\n",
    "    dm_init.requires_grad = False\n",
    "    dm_init = dm_init.to(DEVICE)\n",
    "    e_ref = e_ref.to(DEVICE)\n",
    "    dm_ref = dm_ref.to(DEVICE)\n",
    "    matrices = {key:matrices[key].to(DEVICE) for key in matrices}\n",
    "    results = scf(dm_init, matrices)\n",
    "    E = results['E']\n",
    "    dm = results['dm']\n",
    "    energies['E_ref'].append(e_ref.detach().cpu().numpy())\n",
    "    energies['E_pred'].append(E.detach().cpu().numpy()[-1])\n",
    "    densities['dm_ref'].append(dm_ref.detach().cpu().numpy())\n",
    "    densities['dm_pred'].append(dm.detach().cpu().numpy())\n",
    "    mo_energies['mo_ref'].append(matrices['mo_energy'].detach().cpu().numpy().flatten())\n",
    "    mo_energies['mo_pred'].append(results['mo_energy'].detach().cpu().numpy())"
   ]
  },
  {
   "cell_type": "code",
   "execution_count": 29,
   "metadata": {},
   "outputs": [],
   "source": [
    "ref_dict = {''.join(a.get_chemical_symbols()): e for a,e in zip(atoms, energies['E_ref'])}\n",
    "pred_dict = {''.join(a.get_chemical_symbols()): e for a,e in zip(atoms, energies['E_pred'])}"
   ]
  },
  {
   "cell_type": "code",
   "execution_count": 30,
   "metadata": {},
   "outputs": [
    {
     "data": {
      "text/plain": [
       "0.08992083617722813"
      ]
     },
     "execution_count": 30,
     "metadata": {},
     "output_type": "execute_result"
    }
   ],
   "source": [
    "np.std(np.array(energies['E_ref']).flatten()[:-1] - np.array(energies['E_pred'])[:-1])"
   ]
  },
  {
   "cell_type": "code",
   "execution_count": 31,
   "metadata": {},
   "outputs": [
    {
     "name": "stderr",
     "output_type": "stream",
     "text": [
      "/gpfs/home/smdick/miniconda3/envs/torch/lib/python3.8/site-packages/numpy/core/fromnumeric.py:3372: RuntimeWarning: Mean of empty slice.\n",
      "  return _methods._mean(a, axis=axis, dtype=dtype,\n",
      "/gpfs/home/smdick/miniconda3/envs/torch/lib/python3.8/site-packages/numpy/core/_methods.py:170: RuntimeWarning: invalid value encountered in double_scalars\n",
      "  ret = ret.dtype.type(ret / rcount)\n"
     ]
    },
    {
     "name": "stdout",
     "output_type": "stream",
     "text": [
      "0.0\n"
     ]
    },
    {
     "data": {
      "image/png": "[encoded data removed]",
      "text/plain": [
       "<Figure size 576x1152 with 4 Axes>"
      ]
     },
     "metadata": {
      "needs_background": "light"
     },
     "output_type": "display_data"
    }
   ],
   "source": [
    "figsize(8,16)\n",
    "subplot(4,1,1)\n",
    "plot(distances,E_base, label='baseline',marker='.', ls=':')\n",
    "plot(distances,energies['E_ref'],label='reference',marker='.')\n",
    "plot(distances,energies['E_pred'],label='predicted',marker='.')\n",
    "plot(np.array(distances)[train_idx],np.array(energies['E_pred'])[train_idx],label='training points',ls='',marker='o')\n",
    "xticks(distances, [str(a.symbols) for a in atoms])\n",
    "ylabel('$E_{KS/HF}$ (a.u.)')\n",
    "grid(ls=':')\n",
    "legend()\n",
    "subplot(4,1,2)\n",
    "\n",
    "error = np.array(energies['E_pred'])-np.array(energies['E_ref'])[:,0]\n",
    "error_test = [e for i,e in enumerate(error) if not i in train_idx]\n",
    "error_train = [e for i,e in enumerate(error) if  i in train_idx]\n",
    "error_test -= np.mean(error)\n",
    "\n",
    "plot(distances,np.array(energies['E_pred'])-np.array(energies['E_ref'])[:,0]-np.mean(error_train),label='MAE = {:.2f} mHartree'.format(np.mean(np.abs(error_test))*1000),\n",
    "     marker='.',zorder=1, color='black',ls='--')\n",
    "\n",
    "# plot(distances,np.array(E_base)-np.array(energies['E_ref'])[:,0],label='reference',zorder=1, color='black',ls=':')\n",
    "\n",
    "error_base = np.array(E_base)-np.array(energies['E_ref'])[:,0]\n",
    "print(1000*np.mean(np.abs(error_base - np.mean(error_base))))\n",
    "plot(np.array(distances)[train_idx],(np.array(energies['E_pred'])-np.array(energies['E_ref'])[:,0]-np.mean(error_train))[train_idx],\n",
    "     ls='',marker='o',zorder=1, color='red')\n",
    "xticks(distances, [str(a.symbols) for a in atoms])\n",
    "axhline(0.002,color='grey')\n",
    "axhline(-0.002,color='grey')\n",
    "xmin, xmax = xlim()\n",
    "ylabel('$\\Delta E $ (a.u.)')\n",
    "xlabel('d (A)')\n",
    "legend()\n",
    "# yscale('log')?\n",
    "fill_between([xmin,xmax],-0.002,0.002,zorder=0,color='lightgrey')\n",
    "xlim(xmin,xmax)\n",
    "grid(ls=':')\n",
    "\n",
    "ref_dict = {''.join(a.get_chemical_symbols()): e for a,e in zip(atoms, energies['E_ref'])}\n",
    "pred_dict = {''.join(a.get_chemical_symbols()): e for a,e in zip(atoms, energies['E_pred'])}\n",
    "\n",
    "subplot(4,1,3)\n",
    "\n",
    "\n",
    "ae_ref = np.array(list(atomization_energies(ref_dict).values()))\n",
    "ae_pred = np.array(list(atomization_energies(pred_dict).values()))\n",
    "plot(distances,ae_ref, label='reference',marker='.')\n",
    "plot(distances,ae_pred, label='predicted',marker='.')\n",
    "plot(np.array(distances)[train_idx],ae_ref[train_idx],label='training points',ls='',marker='o',color='red')\n",
    "xticks(distances, [str(a.symbols) for a in atoms])\n",
    "ylabel('$E_{KS/HF}$ (a.u.)')\n",
    "grid(ls=':')\n",
    "legend()\n",
    "\n",
    "subplot(4,1,4)\n",
    "error = np.array(ae_ref).flatten()-np.array(ae_pred).flatten()\n",
    "\n",
    "\n",
    "plot(distances,error,label='MAE = {:.2f} mHartree'.format(np.mean(np.abs(error))*1000),\n",
    "     marker='.',zorder=1, color='black',ls='--')\n",
    "\n",
    "# plot(distances,np.array(E_base)-np.array(energies['E_ref'])[:,0],label='reference',zorder=1, color='black',ls=':')\n",
    "\n",
    "# error_base = np.array(E_base)-np.array(energies['E_ref'])[:,0]\n",
    "# print(1000*np.mean(np.abs(error_base - np.mean(error_base))))\n",
    "# plot(np.array(distances)[train_idx],(np.array(ae_pred)-np.array(ae_ref)-np.mean(error_train))[train_idx],\n",
    "#      ls='',marker='o',zorder=1, color='red')\n",
    "xticks(distances, [str(a.symbols) for a in atoms])\n",
    "axhline(0.002,color='grey')\n",
    "axhline(-0.002,color='grey')\n",
    "xmin, xmax = xlim()\n",
    "ylabel('$\\Delta E $ (a.u.)')\n",
    "xlabel('d (A)')\n",
    "legend()\n",
    "# yscale('log')?\n",
    "fill_between([xmin,xmax],-0.002,0.002,zorder=0,color='lightgrey')\n",
    "xlim(xmin,xmax)\n",
    "grid(ls=':')\n",
    "\n",
    "# savefig('pbe_reprod.pdf',bbox_inches='tight')"
   ]
  },
  {
   "cell_type": "code",
   "execution_count": null,
   "metadata": {},
   "outputs": [],
   "source": []
  },
  {
   "cell_type": "code",
   "execution_count": 33,
   "metadata": {},
   "outputs": [],
   "source": [
    "INDEX=3"
   ]
  },
  {
   "cell_type": "code",
   "execution_count": 34,
   "metadata": {},
   "outputs": [
    {
     "data": {
      "text/plain": [
       "[0, 1, 2, 3, 10, 13, 14, 15, 16]"
      ]
     },
     "execution_count": 34,
     "metadata": {},
     "output_type": "execute_result"
    }
   ],
   "source": [
    "select"
   ]
  },
  {
   "cell_type": "code",
   "execution_count": 35,
   "metadata": {},
   "outputs": [
    {
     "name": "stdout",
     "output_type": "stream",
     "text": [
      "converged SCF energy = -15.8628009192906\n",
      "converged SCF energy = -15.8650512532512\n"
     ]
    },
    {
     "data": {
      "text/plain": [
       "<matplotlib.legend.Legend at 0x2aab599fb640>"
      ]
     },
     "execution_count": 35,
     "metadata": {},
     "output_type": "execute_result"
    },
    {
     "data": {
      "image/png": "[encoded data removed]",
      "text/plain": [
       "<Figure size 504x360 with 1 Axes>"
      ]
     },
     "metadata": {
      "needs_background": "light"
     },
     "output_type": "display_data"
    }
   ],
   "source": [
    "pos = atoms[INDEX].positions\n",
    "spec = atoms[INDEX].get_chemical_symbols()\n",
    "mol_input = [[s, p] for s, p in zip(spec, pos)]\n",
    "\n",
    "mol = gto.M(atom=mol_input, basis='6-311++G(3df,2pd)')\n",
    "mol_ref = gto.M(atom=mol_input, basis='aug-ccpvqz')\n",
    "mf = dft.RKS(mol)\n",
    "mf.xc = 'PBE'\n",
    "mf.grids.level = 5\n",
    "mf.kernel()\n",
    "dm_lda = mf.make_rdm1()\n",
    "mf_ref = dft.RKS(mol_ref)\n",
    "mf_ref.xc = 'PBE'\n",
    "mf_ref.grids.level = 5\n",
    "mf_ref.kernel()\n",
    "\n",
    "coords = np.zeros([500,3])\n",
    "\n",
    "coords[:,2] = np.linspace(-4,4,500)\n",
    "\n",
    "mf.grids.coords = coords\n",
    "mf.grids.weights = np.zeros(500)\n",
    "\n",
    "# rho_base = get_rho(mf, mol = mol, dm = DM_base[INDEX], grids = mf.grids)\n",
    "# rho_ref = mf_ref._numint.get_rho(mol = mol_ref, dm = DM_ref[0], grids = mf.grids)\n",
    "rho_ref = get_rho(mf, mol = mol_ref, dm = np.load('ref/aug-ccpvqz/{}.dm.npy'.format(select[INDEX])), grids = mf.grids)\n",
    "# rho_ref = get_rho(mf, mol = mol_ref, dm = DM_ref[INDEX], grids = mf.grids)\n",
    "rho_lda = get_rho(mf, mol = mol, dm = dm_lda, grids = mf.grids)\n",
    "dm_pred =  densities['dm_pred'][INDEX]\n",
    "if dm_pred.ndim ==3:\n",
    "    dm_pred = np.sum(dm_pred, axis=0)\n",
    "rho_pred = get_rho(mf, mol = mol, dm = dm_pred, grids = mf.grids)\n",
    "figsize(7,5)\n",
    "axhline(0, color='black')\n",
    "plot(mf.grids.coords[:,2], -rho_ref.round(5) + rho_lda.round(5),label='LDA - Reference')\n",
    "plot(mf.grids.coords[:,2], -rho_ref.round(5) + rho_pred.round(5),label='NXC - Reference')\n",
    "plot([pos[1,-1]/Bohr,pos[0,-1]/Bohr],[0,0],ls='',marker='o',color='black')\n",
    "xlabel('x (a.u.)')\n",
    "ylabel('$\\\\Delta\\\\rho$ (a.u.)')\n",
    "legend()\n"
   ]
  },
  {
   "cell_type": "code",
   "execution_count": 37,
   "metadata": {},
   "outputs": [
    {
     "data": {
      "text/plain": [
       "<matplotlib.legend.Legend at 0x2aab59ae7e20>"
      ]
     },
     "execution_count": 37,
     "metadata": {},
     "output_type": "execute_result"
    },
    {
     "data": {
      "image/png": "[encoded data removed]",
      "text/plain": [
       "<Figure size 504x360 with 1 Axes>"
      ]
     },
     "metadata": {
      "needs_background": "light"
     },
     "output_type": "display_data"
    }
   ],
   "source": [
    "figsize(7,5)\n",
    "axhline(0, color='black')\n",
    "plot(mf.grids.coords[:,2], rho_ref.round(5) ,label='Reference')\n",
    "plot(mf.grids.coords[:,2], rho_pred.round(5),label='Predicted')\n",
    "plot([pos[1,-1]/Bohr,pos[0,-1]/Bohr],[0,0],ls='',marker='o',color='black')\n",
    "xlabel('x (a.u.)')\n",
    "ylabel('$\\\\Delta\\\\rho$ (a.u.)')\n",
    "legend()"
   ]
  },
  {
   "cell_type": "code",
   "execution_count": 168,
   "metadata": {},
   "outputs": [
    {
     "data": {
      "text/plain": [
       "[<matplotlib.lines.Line2D at 0x7fe2e1c564c0>]"
      ]
     },
     "execution_count": 168,
     "metadata": {},
     "output_type": "execute_result"
    },
    {
     "data": {
      "image/png": "[encoded data removed]",
      "text/plain": [
       "<Figure size 504x360 with 1 Axes>"
      ]
     },
     "metadata": {
      "needs_background": "light"
     },
     "output_type": "display_data"
    }
   ],
   "source": [
    "plot(torch.arange(0,10,0.001), scf.xc.grid_models[0](torch.stack([torch.log(torch.arange(0,10,0.001)+1e-8)]*2,dim=-1)).detach().numpy())\n",
    "# xscale('log')"
   ]
  },
  {
   "cell_type": "code",
   "execution_count": 169,
   "metadata": {},
   "outputs": [],
   "source": [
    "x = XC_L(device=DEVICE,n_input=1, n_hidden=64,spin_scaling=True, use=[1], lob=True) # PBE_X\n",
    "x.load_state_dict(torch.load('pbe_x_64_s_lob',map_location=torch.device('cpu')))\n",
    "\n",
    "c = XC_L(device=DEVICE,n_input=3, n_hidden=64, spin_scaling=False)\n",
    "c.load_state_dict(torch.load('pbe_c_64',map_location=torch.device('cpu')))\n",
    "\n",
    "c = C_L(device=DEVICE,n_input=3, n_hidden=32, use=[1,2])\n",
    "c.load_state_dict(torch.load('pbe_c_32_scaling',map_location=torch.device('cpu')))\n",
    "\n",
    "pbe_xc = XC(grid_models=[x, c], heg_mult=True, level=2)\n",
    "# xc = XC(grid_models=[c], heg_mult=True, level=2)\n",
    "scf_pbe = SCF(nsteps=10, xc=pbe_xc, exx=False,alpha=0.4)\n"
   ]
  },
  {
   "cell_type": "code",
   "execution_count": 170,
   "metadata": {},
   "outputs": [
    {
     "data": {
      "text/plain": [
       "[<matplotlib.lines.Line2D at 0x7fe344291640>]"
      ]
     },
     "execution_count": 170,
     "metadata": {},
     "output_type": "execute_result"
    },
    {
     "data": {
      "image/png": "[encoded data removed]",
      "text/plain": [
       "<Figure size 504x360 with 1 Axes>"
      ]
     },
     "metadata": {
      "needs_background": "light"
     },
     "output_type": "display_data"
    }
   ],
   "source": [
    "plot(torch.arange(0.001,10,0.001), (1+scf.xc.grid_models[0](torch.stack([torch.log(torch.arange(0.001,10,0.001)+1e-8)]*2,dim=-1))).detach().numpy())\n",
    "plot(torch.arange(0.001,10,0.001), (1+scf_pbe.xc.grid_models[0](torch.stack([torch.log(torch.arange(0.001,10,0.001)+1e-8)]*2,dim=-1))).detach().numpy())\n",
    "\n",
    "# xscale('log')"
   ]
  },
  {
   "cell_type": "code",
   "execution_count": 6,
   "metadata": {},
   "outputs": [],
   "source": [
    "from pyscf import gto, dft, scf\n",
    "import pylibnxc"
   ]
  },
  {
   "cell_type": "code",
   "execution_count": 7,
   "metadata": {},
   "outputs": [],
   "source": [
    "import os"
   ]
  },
  {
   "cell_type": "code",
   "execution_count": null,
   "metadata": {},
   "outputs": [],
   "source": []
  },
  {
   "cell_type": "code",
   "execution_count": 3,
   "metadata": {},
   "outputs": [
    {
     "ename": "NameError",
     "evalue": "name 'xc' is not defined",
     "output_type": "error",
     "traceback": [
      "\u001b[0;31m---------------------------------------------------------------------------\u001b[0m",
      "\u001b[0;31mNameError\u001b[0m                                 Traceback (most recent call last)",
      "\u001b[0;32m<ipython-input-3-fa7e4d81030a>\u001b[0m in \u001b[0;36m<module>\u001b[0;34m\u001b[0m\n\u001b[0;32m----> 1\u001b[0;31m \u001b[0mxc\u001b[0m\u001b[0;34m.\u001b[0m\u001b[0mforward\u001b[0m \u001b[0;34m=\u001b[0m \u001b[0mxc\u001b[0m\u001b[0;34m.\u001b[0m\u001b[0meval_grid_models\u001b[0m\u001b[0;34m\u001b[0m\u001b[0;34m\u001b[0m\u001b[0m\n\u001b[0m\u001b[1;32m      2\u001b[0m \u001b[0mtraced\u001b[0m \u001b[0;34m=\u001b[0m \u001b[0mtorch\u001b[0m\u001b[0;34m.\u001b[0m\u001b[0mjit\u001b[0m\u001b[0;34m.\u001b[0m\u001b[0mtrace\u001b[0m\u001b[0;34m(\u001b[0m\u001b[0mxc\u001b[0m\u001b[0;34m,\u001b[0m\u001b[0mtorch\u001b[0m\u001b[0;34m.\u001b[0m\u001b[0mrand\u001b[0m\u001b[0;34m(\u001b[0m\u001b[0;34m[\u001b[0m\u001b[0;36m10\u001b[0m\u001b[0;34m,\u001b[0m\u001b[0;36m9\u001b[0m\u001b[0;34m]\u001b[0m\u001b[0;34m)\u001b[0m\u001b[0;34m)\u001b[0m\u001b[0;34m\u001b[0m\u001b[0;34m\u001b[0m\u001b[0m\n\u001b[1;32m      3\u001b[0m \u001b[0;34m\u001b[0m\u001b[0m\n\u001b[1;32m      4\u001b[0m \u001b[0mtorch\u001b[0m\u001b[0;34m.\u001b[0m\u001b[0mjit\u001b[0m\u001b[0;34m.\u001b[0m\u001b[0msave\u001b[0m\u001b[0;34m(\u001b[0m\u001b[0mtraced\u001b[0m\u001b[0;34m,\u001b[0m \u001b[0;34m\"models/PBE_GGA/xc\"\u001b[0m\u001b[0;34m)\u001b[0m\u001b[0;34m\u001b[0m\u001b[0;34m\u001b[0m\u001b[0m\n",
      "\u001b[0;31mNameError\u001b[0m: name 'xc' is not defined"
     ]
    }
   ],
   "source": [
    "xc.forward = xc.eval_grid_models\n",
    "traced = torch.jit.trace(xc,torch.rand([10,9]))\n",
    "\n",
    "torch.jit.save(traced, \"models/PBE_GGA/xc\")"
   ]
  },
  {
   "cell_type": "code",
   "execution_count": null,
   "metadata": {},
   "outputs": [],
   "source": []
  },
  {
   "cell_type": "code",
   "execution_count": 8,
   "metadata": {},
   "outputs": [],
   "source": [
    "os.environ['NXC_MODELPATH'] = '/home/sebastian/Research/NEURALXC/torch_pyscf/models'"
   ]
  },
  {
   "cell_type": "code",
   "execution_count": 20,
   "metadata": {},
   "outputs": [],
   "source": [
    "# all_atoms =[Atoms('H2', positions=np.array([[0,0,-0.35],[0,0,0.35]])*mult) for mult in [0.7,0.85,1.05,1.15,1.25,1.6,1.8,2.2,2.5,3.5,5,7] ]\n",
    "all_atoms =[Atoms('LiF', positions=np.array([[0,0,-0.75],[0,0,0.75]])*mult) for mult in [0.85,1.05,1.15,1.25,1.6,1.8,2.2]]"
   ]
  },
  {
   "cell_type": "code",
   "execution_count": 21,
   "metadata": {},
   "outputs": [],
   "source": [
    "def get(atoms, xc='',nxc=''):\n",
    "    pos = atoms.positions\n",
    "    spec = atoms.get_chemical_symbols()\n",
    "    mol_input = [[s, p] for s, p in zip(spec, pos)]\n",
    "    mol = gto.M(atom=mol_input, basis='6-311++G**')\n",
    "    mf = pylibnxc.pyscf.RKS(mol,nxc=nxc)\n",
    "    if xc:\n",
    "        mf.xc = xc\n",
    "    mf.grids.level = 4\n",
    "    mf.kernel()\n",
    "    return mf.e_tot"
   ]
  },
  {
   "cell_type": "code",
   "execution_count": 22,
   "metadata": {},
   "outputs": [
    {
     "name": "stdout",
     "output_type": "stream",
     "text": [
      "converged SCF energy = -107.290680776981\n",
      "converged SCF energy = -107.339624500343\n",
      "converged SCF energy = -107.336069024133\n",
      "converged SCF energy = -107.326262682645\n",
      "converged SCF energy = -107.281972315838\n",
      "converged SCF energy = -107.259301119231\n",
      "converged SCF energy = -107.224655091986\n",
      "converged SCF energy = -107.430039097988\n",
      "converged SCF energy = -107.478341428894\n",
      "converged SCF energy = -107.474330836177\n",
      "converged SCF energy = -107.464029623189\n",
      "converged SCF energy = -107.417830594582\n",
      "converged SCF energy = -107.393992729768\n",
      "converged SCF energy = -107.356208961905\n",
      "converged SCF energy = -107.791572070404\n",
      "converged SCF energy = -107.836755744843\n",
      "converged SCF energy = -107.832080775297\n",
      "converged SCF energy = -107.821451031806\n",
      "converged SCF energy = -107.775563480679\n",
      "converged SCF energy = -107.752420033082\n",
      "converged SCF energy = -107.717134760288\n"
     ]
    }
   ],
   "source": [
    "pbe = np.array([get(a,xc='PBE') for a in all_atoms])\n",
    "ref = np.array([get(a,xc='wb97mv') for a in all_atoms])\n",
    "nxc = np.array([get(a,xc='',nxc='PBE_GGA') for a in all_atoms])\n",
    "# nxc = np.array(energies['E_pred'][:-1])\n",
    "results = {'PBE':pbe,'REF':ref,'NXC':nxc}\n",
    "for r in results:\n",
    "    results[r] -= np.min(results[r])"
   ]
  },
  {
   "cell_type": "code",
   "execution_count": 23,
   "metadata": {},
   "outputs": [],
   "source": [
    "r = np.array([a.get_distance(0,1) for a in all_atoms])"
   ]
  },
  {
   "cell_type": "code",
   "execution_count": 25,
   "metadata": {},
   "outputs": [
    {
     "data": {
      "text/plain": [
       "<matplotlib.legend.Legend at 0x7fb90a506430>"
      ]
     },
     "execution_count": 25,
     "metadata": {},
     "output_type": "execute_result"
    },
    {
     "data": {
      "image/png": "[encoded data removed]",
      "text/plain": [
       "<Figure size 720x720 with 1 Axes>"
      ]
     },
     "metadata": {
      "needs_background": "light"
     },
     "output_type": "display_data"
    }
   ],
   "source": [
    "figsize(10,10)\n",
    "for res in results:\n",
    "    plot(r, results[res], label=res)\n",
    "legend()"
   ]
  },
  {
   "cell_type": "code",
   "execution_count": null,
   "metadata": {},
   "outputs": [],
   "source": []
  }
 ],
 "metadata": {
  "kernelspec": {
   "display_name": "Python 3",
   "language": "python",
   "name": "python3"
  },
  "language_info": {
   "codemirror_mode": {
    "name": "ipython",
    "version": 3
   },
   "file_extension": ".py",
   "mimetype": "text/x-python",
   "name": "python",
   "nbconvert_exporter": "python",
   "pygments_lexer": "ipython3",
   "version": "3.8.5"
  }
 },
 "nbformat": 4,
 "nbformat_minor": 4
}
