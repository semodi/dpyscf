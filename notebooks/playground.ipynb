{
 "cells": [
  {
   "cell_type": "code",
   "execution_count": 1,
   "metadata": {},
   "outputs": [
    {
     "name": "stdout",
     "output_type": "stream",
     "text": [
      "Populating the interactive namespace from numpy and matplotlib\n"
     ]
    },
    {
     "name": "stderr",
     "output_type": "stream",
     "text": [
      "/gpfs/home/smdick/miniconda3/envs/torch/lib/python3.8/site-packages/IPython/core/magics/pylab.py:159: UserWarning: pylab import has clobbered these variables: ['datetime']\n",
      "`%matplotlib` prevents importing * from pylab and numpy\n",
      "  warn(\"pylab import has clobbered these variables: %s\"  % clobbered +\n"
     ]
    }
   ],
   "source": [
    "import numpy as np\n",
    "from dpyscf.utils import * \n",
    "from pyscf import gto, scf, dft\n",
    "from ase.io import read, write \n",
    "%pylab inline"
   ]
  },
  {
   "cell_type": "code",
   "execution_count": 186,
   "metadata": {},
   "outputs": [],
   "source": [
    "spins = np.load('../scripts/spin_square.npy')[:148]"
   ]
  },
  {
   "cell_type": "code",
   "execution_count": 187,
   "metadata": {},
   "outputs": [],
   "source": [
    "openshell = np.where(spins[:,1] - 1 > 1e-2)[0]"
   ]
  },
  {
   "cell_type": "code",
   "execution_count": 188,
   "metadata": {},
   "outputs": [
    {
     "data": {
      "text/plain": [
       "array([  5,   6,   7,   8,  14,  19,  23,  34,  35,  37,  38,  49,  63,\n",
       "        68,  76,  83,  84,  88,  94,  97, 105, 106, 107, 108, 110, 116,\n",
       "       117, 121, 122, 126, 141])"
      ]
     },
     "execution_count": 188,
     "metadata": {},
     "output_type": "execute_result"
    }
   ],
   "source": [
    "openshell"
   ]
  },
  {
   "cell_type": "code",
   "execution_count": 189,
   "metadata": {},
   "outputs": [],
   "source": [
    "atoms = read('../data/haunschild_g2/g2_97.traj',':')"
   ]
  },
  {
   "cell_type": "code",
   "execution_count": 190,
   "metadata": {},
   "outputs": [],
   "source": [
    "for i,a in enumerate(atoms):\n",
    "    atoms[i].info['openshell'] = False"
   ]
  },
  {
   "cell_type": "code",
   "execution_count": 191,
   "metadata": {},
   "outputs": [],
   "source": [
    "for i in openshell:\n",
    "    atoms[i].info['openshell'] = True"
   ]
  },
  {
   "cell_type": "code",
   "execution_count": 192,
   "metadata": {},
   "outputs": [],
   "source": [
    "triplets = []\n",
    "for a in atoms:\n",
    "    if not a.info['openshell']: continue\n",
    "    basis = '6-311G(3df,2p)'\n",
    "    spin = 1\n",
    "    pos = a.positions\n",
    "    spec = a.get_chemical_symbols()\n",
    "    mol_input = [[s, p] for s, p in zip(spec, pos)]\n",
    "    try:\n",
    "        mol = gto.M(atom=mol_input, basis=basis,spin=spin)\n",
    "    except:\n",
    "        triplets.append(a)"
   ]
  },
  {
   "cell_type": "code",
   "execution_count": 193,
   "metadata": {},
   "outputs": [
    {
     "data": {
      "text/plain": [
       "[Atoms(symbols='S2', pbc=False, calculator=SinglePointCalculator(...)),\n",
       " Atoms(symbols='OS', pbc=False, calculator=SinglePointCalculator(...)),\n",
       " Atoms(symbols='NH', pbc=False, calculator=SinglePointCalculator(...)),\n",
       " Atoms(symbols='SiH2', pbc=False, calculator=SinglePointCalculator(...)),\n",
       " Atoms(symbols='CH2', pbc=False, calculator=SinglePointCalculator(...)),\n",
       " Atoms(symbols='CH2', pbc=False, calculator=SinglePointCalculator(...)),\n",
       " Atoms(symbols='Si2', pbc=False, calculator=SinglePointCalculator(...)),\n",
       " Atoms(symbols='O2', pbc=False, calculator=SinglePointCalculator(...))]"
      ]
     },
     "execution_count": 193,
     "metadata": {},
     "output_type": "execute_result"
    }
   ],
   "source": [
    "triplets"
   ]
  },
  {
   "cell_type": "code",
   "execution_count": 195,
   "metadata": {},
   "outputs": [],
   "source": [
    "write('../data/haunschild_g2/g2_97.traj',atoms)"
   ]
  },
  {
   "cell_type": "code",
   "execution_count": 182,
   "metadata": {},
   "outputs": [
    {
     "data": {
      "text/plain": [
       "{110: Atoms(symbols='Si2', pbc=False, calculator=SinglePointCalculator(...))}"
      ]
     },
     "execution_count": 182,
     "metadata": {},
     "output_type": "execute_result"
    }
   ],
   "source": [
    "atoms = read('../data/haunschild_g2/g2_97.traj',':')\n",
    "{i:a for i,a in enumerate(atoms) if str(a.symbols) == 'Si2'}"
   ]
  },
  {
   "cell_type": "code",
   "execution_count": 2,
   "metadata": {},
   "outputs": [],
   "source": [
    "atoms = read('../data/haunschild_g2/g2_97.traj',':')[106]"
   ]
  },
  {
   "cell_type": "code",
   "execution_count": 5,
   "metadata": {},
   "outputs": [],
   "source": [
    "atoms = read('../data/haunschild_scan_extended.traj',':')[1]"
   ]
  },
  {
   "cell_type": "code",
   "execution_count": 6,
   "metadata": {},
   "outputs": [],
   "source": [
    "from pylibnxc.pyscf import RKS"
   ]
  },
  {
   "cell_type": "code",
   "execution_count": 10,
   "metadata": {},
   "outputs": [
    {
     "name": "stdout",
     "output_type": "stream",
     "text": [
      "\n",
      "\n",
      "******** <class 'pyscf.dft.rks.RKS'> ********\n",
      "method = RKS-RHF\n",
      "initial guess = minao\n",
      "damping factor = 0\n",
      "level_shift factor = 0\n",
      "DIIS = <class 'pyscf.scf.diis.CDIIS'>\n",
      "diis_start_cycle = 1\n",
      "diis_space = 8\n",
      "SCF conv_tol = 1e-09\n",
      "SCF conv_tol_grad = None\n",
      "SCF max_cycles = 50\n",
      "direct_scf = True\n",
      "direct_scf_tol = 1e-13\n",
      "chkfile to save SCF result = /gpfs/home/smdick/dpyscf/notebooks/tmp_pitirv3\n",
      "max_memory 4000 MB (current use 411 MB)\n",
      "XC functionals = MGGA_X_SCAN, MGGA_C_SCAN\n",
      "small_rho_cutoff = 1e-07\n",
      "radial grids: \n",
      "    Treutler-Ahlrichs [JCP 102, 346 (1995); DOI:10.1063/1.469408] (M4) radial grids\n",
      "    \n",
      "becke partition: Becke, JCP 88, 2547 (1988); DOI:10.1063/1.454033\n",
      "pruning grids: <function nwchem_prune at 0x2aaaebb87280>\n",
      "grids dens level: 5\n",
      "symmetrized grids: False\n",
      "atomic radii adjust function: <function treutler_atomic_radii_adjust at 0x2aaaebb87160>\n",
      "Set gradient conv threshold to 3.16228e-05\n",
      "tot grids = 86316\n",
      "init E= -109.662284732142\n",
      "  HOMO = -0.396373525167768  LUMO = -0.0524463847925803\n",
      "cycle= 1 E= -109.516928566945  delta_E= 0.145  |g|= 0.0789  |ddm|= 1.86\n",
      "  HOMO = -0.392843005024641  LUMO = -0.0611924449234234\n",
      "cycle= 2 E= -109.517758589694  delta_E= -0.00083  |g|= 0.00884  |ddm|= 0.498\n",
      "  HOMO = -0.396474051049648  LUMO = -0.0628211103252238\n",
      "cycle= 3 E= -109.517771603309  delta_E= -1.3e-05  |g|= 0.00325  |ddm|= 0.0217\n",
      "  HOMO = -0.395334831952826  LUMO = -0.0617900270820634\n",
      "cycle= 4 E= -109.517773616879  delta_E= -2.01e-06  |g|= 0.000759  |ddm|= 0.00663\n",
      "  HOMO = -0.395530048777686  LUMO = -0.0619793344501623\n",
      "cycle= 5 E= -109.517773727713  delta_E= -1.11e-07  |g|= 0.000109  |ddm|= 0.00137\n",
      "  HOMO = -0.395535707065884  LUMO = -0.0619753349668932\n",
      "cycle= 6 E= -109.51777372973  delta_E= -2.02e-09  |g|= 8.95e-07  |ddm|= 0.00034\n",
      "  HOMO = -0.395535239944328  LUMO = -0.0619749430165819\n",
      "cycle= 7 E= -109.51777372973  delta_E=    0  |g|= 3.61e-08  |ddm|= 1.17e-05\n",
      "  HOMO = -0.39553523225317  LUMO = -0.0619749344591416\n",
      "Extra cycle  E= -109.51777372973  delta_E= -1.71e-13  |g|= 1.14e-08  |ddm|= 1.29e-06\n",
      "converged SCF energy = -109.51777372973\n"
     ]
    },
    {
     "data": {
      "text/plain": [
       "-109.51777372972985"
      ]
     },
     "execution_count": 10,
     "metadata": {},
     "output_type": "execute_result"
    }
   ],
   "source": [
    "basis = '6-311++G(3df,2pd)'\n",
    "spin = 0\n",
    "pos = atoms.positions\n",
    "spec = atoms.get_chemical_symbols()\n",
    "mol_input = [[s, p] for s, p in zip(spec, pos)]\n",
    "mol = gto.M(atom=mol_input, basis=basis,spin=spin)\n",
    "mol.verbose = 4\n",
    "mf = RKS(mol, nxc='MGGA_X_SCAN, MGGA_C_SCAN')\n",
    "# mf.xc = 'PBE'\n",
    "mf.grids.level = 5\n",
    "mf.kernel()"
   ]
  },
  {
   "cell_type": "code",
   "execution_count": 55,
   "metadata": {},
   "outputs": [
    {
     "name": "stdout",
     "output_type": "stream",
     "text": [
      "converged SCF energy = -14.9706027555009  <S^2> = 3.750007  2S+1 = 4.0000035\n"
     ]
    },
    {
     "data": {
      "text/plain": [
       "-14.970602755500932"
      ]
     },
     "execution_count": 55,
     "metadata": {},
     "output_type": "execute_result"
    }
   ],
   "source": [
    "basis = '6-311G(3df,2p)'\n",
    "spin = 1\n",
    "method = dft.UKS\n",
    "pos = atoms.positions\n",
    "spec = atoms.get_chemical_symbols()\n",
    "mol_input = [[s, p] for s, p in zip(spec, pos)]\n",
    "mol = gto.M(atom=mol_input, basis=basis,spin=spin)\n",
    "mf = scf.UHF(mol)\n",
    "mf.kernel()"
   ]
  },
  {
   "cell_type": "code",
   "execution_count": 183,
   "metadata": {},
   "outputs": [],
   "source": [
    "spins = []\n",
    "spins.append(mf.spin_square())"
   ]
  },
  {
   "cell_type": "code",
   "execution_count": 185,
   "metadata": {},
   "outputs": [
    {
     "data": {
      "text/plain": [
       "[(0, 1)]"
      ]
     },
     "execution_count": 185,
     "metadata": {},
     "output_type": "execute_result"
    }
   ],
   "source": [
    "spins"
   ]
  },
  {
   "cell_type": "code",
   "execution_count": 158,
   "metadata": {},
   "outputs": [
    {
     "data": {
      "text/plain": [
       "30"
      ]
     },
     "execution_count": 158,
     "metadata": {},
     "output_type": "execute_result"
    }
   ],
   "source": [
    "mol.nao_cart()"
   ]
  },
  {
   "cell_type": "code",
   "execution_count": 159,
   "metadata": {},
   "outputs": [],
   "source": [
    "idx = np.array([0, 1, 2, 5, 6, 7, 8, 11])\n",
    "X, Y = np.meshgrid(idx, idx)"
   ]
  },
  {
   "cell_type": "code",
   "execution_count": 160,
   "metadata": {},
   "outputs": [],
   "source": [
    "def plot_pot(v, mol = None):\n",
    "    figsize(12,12)\n",
    "    if mol is not None:\n",
    "        labels = mol.ao_labels()\n",
    "        xticks(np.arange(len(labels)),labels,rotation='-90')\n",
    "        yticks(np.arange(len(labels)),labels)\n",
    "    imshow(v)\n",
    "    "
   ]
  },
  {
   "cell_type": "code",
   "execution_count": 161,
   "metadata": {},
   "outputs": [],
   "source": [
    "vxc = mf.get_veff() - mf.get_j()"
   ]
  },
  {
   "cell_type": "code",
   "execution_count": 162,
   "metadata": {},
   "outputs": [
    {
     "data": {
      "image/png": "[encoded data removed]",
      "text/plain": [
       "<Figure size 864x864 with 1 Axes>"
      ]
     },
     "metadata": {
      "needs_background": "light"
     },
     "output_type": "display_data"
    }
   ],
   "source": [
    "\n",
    "plot_pot(vxc, mol)"
   ]
  },
  {
   "cell_type": "code",
   "execution_count": 163,
   "metadata": {},
   "outputs": [
    {
     "data": {
      "text/plain": [
       "array([-0.5059242 , -0.3361181 , -0.19018761, -0.43450337, -0.43450337,\n",
       "       -0.46186172, -0.25849422, -0.25849422, -0.29527071, -0.33223971,\n",
       "       -0.35542668, -0.37530388, -0.35542668, -0.33223971, -0.5059242 ,\n",
       "       -0.3361181 , -0.19018761, -0.43450337, -0.43450337, -0.46186172,\n",
       "       -0.25849422, -0.25849422, -0.29527071, -0.33223971, -0.35542668,\n",
       "       -0.37530388, -0.35542668, -0.33223971])"
      ]
     },
     "execution_count": 163,
     "metadata": {},
     "output_type": "execute_result"
    }
   ],
   "source": [
    "np.diag(vxc)"
   ]
  },
  {
   "cell_type": "code",
   "execution_count": 170,
   "metadata": {},
   "outputs": [],
   "source": [
    "ao_eval = mf._numint.eval_ao(mol,mf.grids.coords,deriv=0)"
   ]
  },
  {
   "cell_type": "code",
   "execution_count": 171,
   "metadata": {},
   "outputs": [],
   "source": [
    "rho = mf._numint.get_rho(mol, mf.make_rdm1(),mf.grids)"
   ]
  },
  {
   "cell_type": "code",
   "execution_count": 172,
   "metadata": {},
   "outputs": [
    {
     "data": {
      "text/plain": [
       "(306310, 28)"
      ]
     },
     "execution_count": 172,
     "metadata": {},
     "output_type": "execute_result"
    }
   ],
   "source": [
    "ao_eval.shape"
   ]
  },
  {
   "cell_type": "code",
   "execution_count": 176,
   "metadata": {},
   "outputs": [
    {
     "data": {
      "text/plain": [
       "array([1., 1., 1., 1., 1., 1., 1., 1., 1., 1., 1., 1., 1., 1., 1., 1., 1.,\n",
       "       1., 1., 1., 1., 1., 1., 1., 1., 1., 1., 1.])"
      ]
     },
     "execution_count": 176,
     "metadata": {},
     "output_type": "execute_result"
    }
   ],
   "source": [
    "np.diag(np.einsum('i,ij,ik',np.ones_like(rho)*mf.grids.weights, ao_eval, ao_eval))"
   ]
  },
  {
   "cell_type": "code",
   "execution_count": 237,
   "metadata": {},
   "outputs": [
    {
     "name": "stdout",
     "output_type": "stream",
     "text": [
      "converged SCF energy = -1.10199859489747\n"
     ]
    },
    {
     "data": {
      "text/plain": [
       "-1.1019985948974744"
      ]
     },
     "execution_count": 237,
     "metadata": {},
     "output_type": "execute_result"
    }
   ],
   "source": [
    "mol = gto.M(atom='H 0 0 0; H 0 0 1', basis=basis)\n",
    "# mol.verbose = 4\n",
    "mf = scf.RHF(mol)\n",
    "# mf.xc = 'PBE'\n",
    "# mf.init_g\n",
    "mf.kernel()"
   ]
  },
  {
   "cell_type": "code",
   "execution_count": 208,
   "metadata": {},
   "outputs": [
    {
     "data": {
      "text/plain": [
       "<matplotlib.image.AxesImage at 0x2aab4eefbf10>"
      ]
     },
     "execution_count": 208,
     "metadata": {},
     "output_type": "execute_result"
    },
    {
     "data": {
      "image/png": "[encoded data removed]",
      "text/plain": [
       "<Figure size 432x288 with 1 Axes>"
      ]
     },
     "metadata": {
      "needs_background": "light"
     },
     "output_type": "display_data"
    }
   ],
   "source": [
    "imshow(dm_conv)"
   ]
  },
  {
   "cell_type": "code",
   "execution_count": 211,
   "metadata": {},
   "outputs": [
    {
     "data": {
      "text/plain": [
       "<matplotlib.colorbar.Colorbar at 0x2aab4f5983d0>"
      ]
     },
     "execution_count": 211,
     "metadata": {},
     "output_type": "execute_result"
    },
    {
     "data": {
      "image/png": "[encoded data removed]",
      "text/plain": [
       "<Figure size 432x288 with 2 Axes>"
      ]
     },
     "metadata": {
      "needs_background": "light"
     },
     "output_type": "display_data"
    }
   ],
   "source": [
    "imshow(dm_init)\n",
    "colorbar()"
   ]
  },
  {
   "cell_type": "code",
   "execution_count": 1,
   "metadata": {},
   "outputs": [],
   "source": [
    "import pylibnxc\n",
    "from pyscf import gto, scf, dft\n",
    "import json\n",
    "from ase.io import read, write\n",
    "import numpy as np\n",
    "import sys\n",
    "from ase.units import Hartree, kcal, mol\n",
    "kcalpmol = kcal/mol"
   ]
  },
  {
   "cell_type": "code",
   "execution_count": 104,
   "metadata": {},
   "outputs": [],
   "source": [
    "def prepare_reaction(data, ref=None):\n",
    "    xyzs = []\n",
    "    for i, reactant in enumerate(data):\n",
    "        a = data[reactant][0]\n",
    "        a.info.update({'grid_level':1, 'sym':False, 'sc':False, 'reaction': 2 if i == 2 else 'reactant',\n",
    "                      'reference_height': ref*kcalpmol/Hartree if i ==2 else None,'spin':a.info.get('multiplicity',1)-1})\n",
    "        xyzs.append(a)\n",
    "    return xyzs"
   ]
  },
  {
   "cell_type": "code",
   "execution_count": 105,
   "metadata": {},
   "outputs": [],
   "source": [
    "with open('../data/bh_76_instructions.json','r') as file:\n",
    "        instructions = json.load(file)\n",
    "with open('../data/bh_76_dict.json','r') as file:\n",
    "    xyz_dict = json.load(file)\n",
    "\n",
    "basis = '6-311++G(3df,2pd)'\n",
    "barrier_heights = []\n",
    "reference_heights = []\n",
    "systems = [0, 1, 57, 9]\n",
    "reaction_atoms = [] \n",
    "for system in systems:\n",
    "    inst = instructions[system]\n",
    "    geometries = inst['setup']['reaction_geometries']\n",
    "    xyz_data = {}\n",
    "    for geom in geometries:\n",
    "        xyz_data[geom] = read('../data/xyz/' + xyz_dict[geom[2:]],':')\n",
    "\n",
    "    reaction_atoms+= prepare_reaction(xyz_data, inst['reference_value'])\n",
    "    \n"
   ]
  },
  {
   "cell_type": "code",
   "execution_count": 106,
   "metadata": {},
   "outputs": [],
   "source": [
    "from ase import Atoms"
   ]
  },
  {
   "cell_type": "code",
   "execution_count": 107,
   "metadata": {},
   "outputs": [],
   "source": [
    "reaction_atoms += [Atoms('C', info={'spin':1, 'grid_level':1, 'sym':False, 'charge':1, 'reaction' : 'reactant', 'reference_height': None}),\n",
    "Atoms('C', info={'spin':2, 'grid_level':1, 'sym':False, 'charge':0, 'reaction' : 1, 'reference_height': -259.7*kcalpmol/Hartree}),\n",
    "Atoms('Li', info={'spin':0, 'grid_level':1, 'sym':False, 'charge':1, 'reaction' : 'reactant', 'reference_height': None}),\n",
    "Atoms('Li', info={'spin':1, 'grid_level':1, 'sym':False, 'charge':0, 'reaction' : 1, 'reference_height': -124.34*kcalpmol/Hartree})]"
   ]
  },
  {
   "cell_type": "code",
   "execution_count": 108,
   "metadata": {},
   "outputs": [
    {
     "data": {
      "text/plain": [
       "[Atoms(symbols='H', pbc=False),\n",
       " Atoms(symbols='N2O', pbc=False),\n",
       " Atoms(symbols='HON2', pbc=False),\n",
       " Atoms(symbols='OH', pbc=False),\n",
       " Atoms(symbols='N2', pbc=False),\n",
       " Atoms(symbols='HON2', pbc=False),\n",
       " Atoms(symbols='OH', pbc=False),\n",
       " Atoms(symbols='CH3', pbc=False),\n",
       " Atoms(symbols='CH4O', pbc=False),\n",
       " Atoms(symbols='FH', pbc=False),\n",
       " Atoms(symbols='F', pbc=False),\n",
       " Atoms(symbols='HF2', pbc=False),\n",
       " Atoms(symbols='C', pbc=False),\n",
       " Atoms(symbols='C', pbc=False),\n",
       " Atoms(symbols='Li', pbc=False),\n",
       " Atoms(symbols='Li', pbc=False)]"
      ]
     },
     "execution_count": 108,
     "metadata": {},
     "output_type": "execute_result"
    }
   ],
   "source": [
    "reaction_atoms"
   ]
  },
  {
   "cell_type": "code",
   "execution_count": 109,
   "metadata": {},
   "outputs": [],
   "source": [
    "from ase.io import read, write "
   ]
  },
  {
   "cell_type": "code",
   "execution_count": 110,
   "metadata": {},
   "outputs": [],
   "source": [
    "write('../data/haunshild_pbe_reaction.traj',read('../data/haunschild_pbe_radical.traj',':') + reaction_atoms)"
   ]
  },
  {
   "cell_type": "code",
   "execution_count": 111,
   "metadata": {},
   "outputs": [],
   "source": [
    "write('../data/haunshild_scan_reaction.traj',read('../data/haunschild_scan_radical.traj',':') + reaction_atoms)"
   ]
  },
  {
   "cell_type": "code",
   "execution_count": 112,
   "metadata": {},
   "outputs": [
    {
     "data": {
      "text/plain": [
       "{'multiplicity': 2,\n",
       " 'grid_level': 1,\n",
       " 'sym': False,\n",
       " 'sc': False,\n",
       " 'reaction': 'reactant',\n",
       " 'reference_height': None,\n",
       " 'spin': 1}"
      ]
     },
     "execution_count": 112,
     "metadata": {},
     "output_type": "execute_result"
    }
   ],
   "source": [
    "reaction_atoms[0].info"
   ]
  },
  {
   "cell_type": "code",
   "execution_count": 101,
   "metadata": {},
   "outputs": [
    {
     "data": {
      "text/plain": [
       "[None,\n",
       " None,\n",
       " 0.02890793008677891,\n",
       " None,\n",
       " None,\n",
       " 0.13261951167705296,\n",
       " None,\n",
       " None,\n",
       " 0.012908171648451443,\n",
       " None,\n",
       " None,\n",
       " 0.16920860069537955,\n",
       " None,\n",
       " -0.4138582934694864,\n",
       " None,\n",
       " -0.19814840281092005]"
      ]
     },
     "execution_count": 101,
     "metadata": {},
     "output_type": "execute_result"
    }
   ],
   "source": [
    "[r.info['reference_height'] for r in reaction_atoms]"
   ]
  },
  {
   "cell_type": "code",
   "execution_count": 91,
   "metadata": {},
   "outputs": [
    {
     "data": {
      "text/plain": [
       "-7.255304970626048"
      ]
     },
     "execution_count": 91,
     "metadata": {},
     "output_type": "execute_result"
    }
   ],
   "source": [
    "basis = '6-311++G(3df,2pd)'\n",
    "mol = gto.M(atom='Li 0 0 0', basis=basis,spin=0,charge=1)\n",
    "mol.verbose = 1\n",
    "mf = dft.RKS(mol)\n",
    "mf.xc = 'PBE'\n",
    "mf.grids.level = 9\n",
    "mf.kernel()\n"
   ]
  },
  {
   "cell_type": "code",
   "execution_count": 30,
   "metadata": {},
   "outputs": [],
   "source": [
    "from ase.units import kcal,mol, Hartree\n",
    "kcalpmol = kcal/mol"
   ]
  },
  {
   "cell_type": "code",
   "execution_count": 31,
   "metadata": {},
   "outputs": [
    {
     "data": {
      "text/plain": [
       "-266.20073763971834"
      ]
     },
     "execution_count": 31,
     "metadata": {},
     "output_type": "execute_result"
    }
   ],
   "source": [
    "(-37.79248985207391+37.36827197375319)*Hartree/kcalpmol"
   ]
  },
  {
   "cell_type": "code",
   "execution_count": null,
   "metadata": {},
   "outputs": [],
   "source": []
  }
 ],
 "metadata": {
  "kernelspec": {
   "display_name": "Python 3",
   "language": "python",
   "name": "python3"
  },
  "language_info": {
   "codemirror_mode": {
    "name": "ipython",
    "version": 3
   },
   "file_extension": ".py",
   "mimetype": "text/x-python",
   "name": "python",
   "nbconvert_exporter": "python",
   "pygments_lexer": "ipython3",
   "version": "3.8.5"
  }
 },
 "nbformat": 4,
 "nbformat_minor": 4
}
