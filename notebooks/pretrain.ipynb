{
 "cells": [
  {
   "cell_type": "code",
   "execution_count": 1,
   "metadata": {},
   "outputs": [],
   "source": [
    "%load_ext autoreload\n",
    "%autoreload 2"
   ]
  },
  {
   "cell_type": "code",
   "execution_count": 2,
   "metadata": {},
   "outputs": [],
   "source": [
    "import pyscf\n",
    "from pyscf import gto,dft,scf"
   ]
  },
  {
   "cell_type": "code",
   "execution_count": 3,
   "metadata": {},
   "outputs": [
    {
     "name": "stdout",
     "output_type": "stream",
     "text": [
      "Populating the interactive namespace from numpy and matplotlib\n"
     ]
    },
    {
     "name": "stderr",
     "output_type": "stream",
     "text": [
      "/home/sebastian/miniconda3/envs/e3nn/lib/python3.8/site-packages/IPython/core/magics/pylab.py:159: UserWarning: pylab import has clobbered these variables: ['datetime', 'eig']\n",
      "`%matplotlib` prevents importing * from pylab and numpy\n",
      "  warn(\"pylab import has clobbered these variables: %s\"  % clobbered +\n"
     ]
    }
   ],
   "source": [
    "# import neuralxc\n",
    "# from neuralxc.projector.pyscf import get_eri3c as get_mlovlp\n",
    "import torch\n",
    "import pyscf\n",
    "from pyscf import gto,dft,scf\n",
    "\n",
    "import numpy as np\n",
    "import scipy\n",
    "from ase import Atoms\n",
    "from ase.io import read\n",
    "from dpyscf.net import * \n",
    "from dpyscf.torch_routines import * \n",
    "from dpyscf.utils import *\n",
    "from pyscf.cc import CCSD\n",
    "from functools import partial\n",
    "from ase.units import Bohr\n",
    "import os\n",
    "%pylab inline"
   ]
  },
  {
   "cell_type": "code",
   "execution_count": 4,
   "metadata": {},
   "outputs": [],
   "source": [
    "torch.set_default_dtype(torch.double)"
   ]
  },
  {
   "cell_type": "code",
   "execution_count": 5,
   "metadata": {},
   "outputs": [],
   "source": [
    "# torch.cuda.current_device()\n",
    "# torch.cuda.is_available()\n",
    "# torch.cuda.get_device_name(0)\n",
    "# torch.set_default_dtype(torch.double)"
   ]
  },
  {
   "cell_type": "code",
   "execution_count": 6,
   "metadata": {},
   "outputs": [],
   "source": [
    "DEVICE='cpu'"
   ]
  },
  {
   "cell_type": "code",
   "execution_count": 58,
   "metadata": {},
   "outputs": [],
   "source": [
    "level = 'GGA'\n",
    "xc = 'c'\n",
    "ref = 'GGA_C_PBE'\n",
    "\n",
    "n_hidden =16\n",
    "if level == 'GGA':\n",
    "    if xc == 'x':\n",
    "        local = XC_L(device=DEVICE,n_input=1, n_hidden=n_hidden, spin_scaling=True, use=[1], lob=1.804)\n",
    "    elif xc == 'c':\n",
    "        local = C_L(device=DEVICE,n_input=3, n_hidden=n_hidden, use=[2], ueg_limit=True)\n",
    "elif level == 'MGGA':\n",
    "    if xc == 'x':\n",
    "        local = XC_L(device=DEVICE, n_input=2, n_hidden=n_hidden, spin_scaling=True, use=[1, 2], \n",
    "                     lob=1.174)\n",
    "#                      lob =2.17)\n",
    "    elif xc == 'c':\n",
    "        local = C_L(device=DEVICE, n_input=4, n_hidden=n_hidden, use=[2,3])\n",
    "        \n",
    "ueg = LDA_X()\n",
    "xc = XC(grid_models=[local], heg_mult=True, level= {'GGA':2, 'MGGA':3}[level])\n",
    "xc.epsilon = 0\n",
    "# if xc == 'c':\n",
    "xc.loge = 1e-5\n",
    "#     xc.s_gam = 0.01"
   ]
  },
  {
   "cell_type": "code",
   "execution_count": 9,
   "metadata": {},
   "outputs": [
    {
     "data": {
      "text/plain": [
       "<All keys matched successfully>"
      ]
     },
     "execution_count": 9,
     "metadata": {},
     "output_type": "execute_result"
    }
   ],
   "source": [
    "local.load_state_dict(torch.load('../models/pretrained/pbe/c',map_location=torch.device('cpu')))"
   ]
  },
  {
   "cell_type": "code",
   "execution_count": 9,
   "metadata": {},
   "outputs": [],
   "source": [
    "def get_mol(atoms, basis='6-311++G**'):\n",
    "    pos = atoms.positions\n",
    "    spec = atoms.get_chemical_symbols()\n",
    "    mol_input = [[s, p] for s, p in zip(spec, pos)]\n",
    "    try:\n",
    "        mol = gto.M(atom=mol_input, basis=atoms.info.get('basis',basis),spin=atoms.info.get('spin',0))\n",
    "    except Exception:\n",
    "        mol = gto.M(atom=mol_input, basis=atoms.info.get('basis','STO-3G'),spin=atoms.info.get('spin',0))\n",
    "    return mol "
   ]
  },
  {
   "cell_type": "code",
   "execution_count": 10,
   "metadata": {},
   "outputs": [],
   "source": [
    "def get_rhos(rho, spin):\n",
    "    rho0 = rho[0,0]\n",
    "    drho = rho[0,1:4] + rho[1:4,0]\n",
    "    tau = 0.5*(rho[1,1] + rho[2,2] + rho[3,3])\n",
    "\n",
    "    if spin != 0:\n",
    "        rho0_a = rho0[0]\n",
    "        rho0_b = rho0[1]\n",
    "        gamma_a, gamma_b = torch.einsum('ij,ij->j',drho[:,0],drho[:,0]), torch.einsum('ij,ij->j',drho[:,1],drho[:,1])              \n",
    "        gamma_ab = torch.einsum('ij,ij->j',drho[:,0],drho[:,1])\n",
    "        tau_a, tau_b = tau\n",
    "    else:\n",
    "        rho0_a = rho0_b = rho0*0.5\n",
    "        gamma_a=gamma_b=gamma_ab= torch.einsum('ij,ij->j',drho[:],drho[:])*0.25\n",
    "        tau_a = tau_b = tau*0.5\n",
    "    return rho0_a, rho0_b, gamma_a, gamma_b, gamma_ab, tau_a, tau_b"
   ]
  },
  {
   "cell_type": "code",
   "execution_count": 11,
   "metadata": {},
   "outputs": [],
   "source": [
    "def get_data_synth(xc_func, n=100):\n",
    "    def get_rho(s, a):\n",
    "        c0 = 2*(3*np.pi**2)**(1/3)\n",
    "        c1 = 3/10*(3*np.pi**2)**(2/3)\n",
    "        gamma = c0*s\n",
    "        tau = c1*a+c0**2*s**2/8\n",
    "        rho = np.zeros([len(a),6])\n",
    "        rho[:, 1] = gamma\n",
    "        rho[:,-1] = tau\n",
    "        rho[:, 0] = 1\n",
    "        return rho\n",
    "    \n",
    "    s_grid = np.concatenate([[0],np.exp(np.linspace(-10,4,n))])\n",
    "#     a_grid =[1000]\n",
    "    rho = []\n",
    "    for s in s_grid:\n",
    "        if 'MGGA' in xc_func:\n",
    "            a_grid = np.concatenate([np.exp(np.linspace(np.log((s/100)+1e-8),8,n))])\n",
    "        else:\n",
    "            a_grid = np.array([0])\n",
    "        rho.append(get_rho(s, a_grid))\n",
    "        \n",
    "    rho = np.concatenate(rho)\n",
    "    \n",
    "    fxc =  dft.numint.libxc.eval_xc(xc_func,rho.T, spin=0)[0]/dft.numint.libxc.eval_xc('LDA_X',rho.T, spin=0)[0] -1\n",
    " \n",
    "    rho = torch.from_numpy(rho)\n",
    "    \n",
    "    tdrho = xc.get_descriptors(rho[:,0]/2,rho[:,0]/2,(rho[:,1]/2)**2,(rho[:,1]/2)**2,(rho[:,1]/2)**2,rho[:,5]/2,rho[:,5]/2, spin_scaling=True)\n",
    "    \n",
    "\n",
    "\n",
    "    tFxc = torch.from_numpy(fxc)\n",
    "    return tdrho[0], tFxc"
   ]
  },
  {
   "cell_type": "code",
   "execution_count": 12,
   "metadata": {},
   "outputs": [],
   "source": [
    "def get_data(mol, xc_func ,full=False, enhance_spin=False):\n",
    "    mf = scf.UKS(mol)\n",
    "    mf.xc = 'PBE'\n",
    "    mf.grids.level = 1\n",
    "    mf.kernel()\n",
    "    coords, weights = half_circle(35, 25)\n",
    "    if not full:\n",
    "        mf.grids.coords = coords\n",
    "        mf.grids.weights = weights\n",
    "    if local.spin_scaling:\n",
    "        rho_alpha = mf._numint.eval_rho(mol, mf._numint.eval_ao(mol, mf.grids.coords, deriv=2) , mf.make_rdm1()[0], xctype='metaGGA',hermi=True)\n",
    "        rho_beta = mf._numint.eval_rho(mol, mf._numint.eval_ao(mol, mf.grids.coords, deriv=2) , mf.make_rdm1()[1], xctype='metaGGA',hermi=True)\n",
    "        fxc_a =  mf._numint.eval_xc(xc_func,(rho_alpha,rho_alpha*0), spin=1)[0]/mf._numint.eval_xc('LDA_X',(rho_alpha,rho_alpha*0), spin=1)[0] -1\n",
    "        fxc_b =  mf._numint.eval_xc(xc_func,(rho_beta*0,rho_beta), spin=1)[0]/mf._numint.eval_xc('LDA_X',(rho_beta*0,rho_beta), spin=1)[0] -1\n",
    "        if mol.spin != 0 and sum(mol.nelec)>1:\n",
    "            rho = np.concatenate([rho_alpha, rho_beta])\n",
    "            fxc = np.concatenate([fxc_a, fxc_b])\n",
    "        else:\n",
    "            rho = rho_alpha\n",
    "            fxc = fxc_a\n",
    "    else:    \n",
    "        rho_alpha = mf._numint.eval_rho(mol, mf._numint.eval_ao(mol, mf.grids.coords, deriv=2) , mf.make_rdm1()[0], xctype='metaGGA',hermi=True)\n",
    "        rho_beta = mf._numint.eval_rho(mol, mf._numint.eval_ao(mol, mf.grids.coords, deriv=2) , mf.make_rdm1()[1], xctype='metaGGA',hermi=True)\n",
    "        exc = mf._numint.eval_xc(xc_func,(rho_alpha,rho_beta), spin=1)[0]\n",
    "        fxc = exc/mf._numint.eval_xc('LDA_C_PW',(rho_alpha, rho_beta), spin=1)[0] -1\n",
    "#         fxc = exc\n",
    "        rho = np.stack([rho_alpha,rho_beta], axis=-1)\n",
    "    \n",
    "    dm = torch.from_numpy(mf.make_rdm1())\n",
    "    ao_eval = torch.from_numpy(mf._numint.eval_ao(mol, mf.grids.coords, deriv=1))\n",
    "    rho = torch.einsum('xij,yik,...jk->xy...i', ao_eval, ao_eval, dm)\n",
    "    \n",
    "    if dm.ndim == 3:\n",
    "        rho_filt = (torch.sum(rho[0,0],dim=0) > 1e-6)\n",
    "    else:\n",
    "        rho_filt = (rho[0,0] > 1e-6)\n",
    "    tdrho = xc.get_descriptors(*get_rhos(rho, spin=1), spin_scaling=local.spin_scaling)\n",
    "    \n",
    "#     tdrho = torch.from_numpy(tdrho.detach().numpy().round(8))\n",
    "        \n",
    "    if local.spin_scaling:\n",
    "        if mol.spin != 0 and sum(mol.nelec) > 1:\n",
    "            tdrho = torch.cat([tdrho[0],tdrho[1]])\n",
    "            rho_filt = torch.cat([rho_filt]*2)\n",
    "            \n",
    "        else:\n",
    "            tdrho = tdrho[0]\n",
    "    tdrho = tdrho[rho_filt]\n",
    "\n",
    "    tFxc = torch.from_numpy(fxc)[rho_filt]\n",
    "#     tFxc = torch.from_snumpy(fxc)\n",
    "    return tdrho, tFxc"
   ]
  },
  {
   "cell_type": "code",
   "execution_count": 13,
   "metadata": {},
   "outputs": [],
   "source": [
    "spins = {\n",
    "    'Al': 1,\n",
    "    'B' : 1,\n",
    "    'Li': 1,\n",
    "    'Na': 1,\n",
    "    'Si': 2 ,\n",
    "    'Be':0,\n",
    "    'C': 2,\n",
    "    'Cl': 1,\n",
    "    'F': 1,\n",
    "    'H': 1,\n",
    "    'N': 3,\n",
    "    'O': 2,\n",
    "    'P': 3,\n",
    "    'S': 2\n",
    "}\n",
    "\n",
    "selection = [2, 113, 25, 18, 11, 17, 114, 121, 101, 0, 20, 26, 29, 67, 28, 110, 125, 10, 115, 89, 105, 50]\n",
    "atoms = [read('../data/haunschild_g2/g2_97.traj',':')[s] for s in selection]\n",
    "ksr_atoms = atoms\n",
    "if level=='MGGA':\n",
    "    ksr_atoms = ksr_atoms[2:]\n",
    "ksr_atoms = [Atoms('P',info={'spin':3}), Atoms('N', info={'spin':3}), Atoms('H', info={'spin':1}),Atoms('Li', info={'spin':1}), Atoms('O',info={'spin':2}),Atoms('Cl',info={'spin':1}),Atoms('Al',info={'spin':1}), Atoms('S',info={'spin':2})] + ksr_atoms\n",
    "# ksr_atoms = [Atoms('H',info={'spin':1})]\n",
    "mols = [get_mol(atoms) for atoms in ksr_atoms]"
   ]
  },
  {
   "cell_type": "code",
   "execution_count": 14,
   "metadata": {},
   "outputs": [
    {
     "name": "stdout",
     "output_type": "stream",
     "text": [
      "converged SCF energy = -341.104145992718  <S^2> = 3.7502984  2S+1 = 4.0001492\n",
      "converged SCF energy = -54.5289742046705  <S^2> = 3.7524945  2S+1 = 4.0012471\n",
      "converged SCF energy = -0.499812985362865  <S^2> = 0.75  2S+1 = 2\n",
      "converged SCF energy = -7.46006188627841  <S^2> = 0.75000049  2S+1 = 2.0000005\n",
      "converged SCF energy = -75.0033804479684  <S^2> = 2.0027444  2S+1 = 3.0018291\n",
      "converged SCF energy = -459.957577119854  <S^2> = 0.7516194  2S+1 = 2.0016187\n",
      "converged SCF energy = -242.226560999673  <S^2> = 0.75226413  2S+1 = 2.0022629\n",
      "converged SCF energy = -397.938786815494  <S^2> = 2.0022329  2S+1 = 3.0014882\n",
      "converged SCF energy = -1.16580491182897  <S^2> = 1.3322676e-15  2S+1 = 1\n",
      "converged SCF energy = -109.439263799566  <S^2> = 1.0658141e-14  2S+1 = 1\n",
      "converged SCF energy = -107.339357395544  <S^2> = 4.2632564e-14  2S+1 = 1\n",
      "converged SCF energy = -93.3377924464758  <S^2> = 5.2828941e-10  2S+1 = 1\n",
      "converged SCF energy = -188.456965322797  <S^2> = 3.8582471e-12  2S+1 = 1\n",
      "converged SCF energy = -920.005608888994  <S^2> = 4.938272e-13  2S+1 = 1\n",
      "converged SCF energy = -199.394370591257  <S^2> = 1.1191048e-13  2S+1 = 1\n",
      "converged SCF energy = -150.21489453132  <S^2> = 1.0018599  2S+1 = 2.2377309\n",
      "converged SCF energy = -77.243504834649  <S^2> = 1.1546319e-14  2S+1 = 1\n",
      "converged SCF energy = -113.221335689615  <S^2> = 2.8421709e-14  2S+1 = 1\n",
      "converged SCF energy = -460.624592374075  <S^2> = 6.9277917e-14  2S+1 = 1\n",
      "converged SCF energy = -8.04458854018847  <S^2> = 6.2749805e-13  2S+1 = 1\n",
      "converged SCF energy = -324.340512506572  <S^2> = 1.0344081e-10  2S+1 = 1\n",
      "converged SCF energy = -1622.57507845829  <S^2> = 1.1539214e-11  2S+1 = 1\n",
      "converged SCF energy = -342.979728469573  <S^2> = 2.5780267e-11  2S+1 = 1\n",
      "converged SCF energy = -578.565336302435  <S^2> = 1.0034704  2S+1 = 2.2391699\n",
      "converged SCF energy = -155.813300573646  <S^2> = 3.0944136e-12  2S+1 = 1\n",
      "converged SCF energy = -40.459821486408  <S^2> = 8.8817842e-15  2S+1 = 1\n",
      "converged SCF energy = -331.001049755832  <S^2> = 1.6926904e-11  2S+1 = 1\n",
      "converged SCF energy = -118.990831790414  <S^2> = 1.9770852e-12  2S+1 = 1\n",
      "converged SCF energy = -39.0756147483517  <S^2> = 4.3298698e-12  2S+1 = 1\n",
      "converged SCF energy = -291.71927243781  <S^2> = 3.8387071e-12  2S+1 = 1\n"
     ]
    }
   ],
   "source": [
    "# data = [get_data(mol, xc_func=ref, full=i<14) for i,mol in enumerate(mols)]\n",
    "data = [get_data(mol, xc_func=ref,full=False) for i,mol in enumerate(mols)]\n",
    "# \n",
    "# data = [get_data_synth(ref, 100)]\n",
    "tdrho = torch.cat([d[0] for d in data]).to(DEVICE)\n",
    "tFxc = torch.cat([d[1] for d in data]).to(DEVICE)"
   ]
  },
  {
   "cell_type": "code",
   "execution_count": 17,
   "metadata": {},
   "outputs": [],
   "source": [
    "nan_filt = ~torch.any((tdrho != tdrho),dim=-1)\n",
    "\n",
    "tFxc = tFxc[nan_filt]\n",
    "tdrho = tdrho[nan_filt,:]"
   ]
  },
  {
   "cell_type": "code",
   "execution_count": 18,
   "metadata": {},
   "outputs": [
    {
     "data": {
      "text/plain": [
       "tensor([[ 2.5530e+00,  3.1738e-09,  3.0061e-06],\n",
       "        [ 2.5530e+00,  3.1738e-09,  3.0061e-06],\n",
       "        [ 2.5530e+00,  3.1738e-09,  3.0061e-06],\n",
       "        ...,\n",
       "        [-4.0900e+00,  3.0198e-14,  2.6746e+00],\n",
       "        [-4.1506e+00,  9.4147e-14,  2.7127e+00],\n",
       "        [-4.1947e+00,  1.7542e-13,  2.7340e+00]])"
      ]
     },
     "execution_count": 18,
     "metadata": {},
     "output_type": "execute_result"
    }
   ],
   "source": [
    "tdrho"
   ]
  },
  {
   "cell_type": "code",
   "execution_count": 60,
   "metadata": {},
   "outputs": [
    {
     "name": "stdout",
     "output_type": "stream",
     "text": [
      "total loss 0.000016507920\n",
      "total loss 0.000011150931\n",
      "total loss 0.000010975335\n",
      "total loss 0.000010759866\n",
      "total loss 0.000010510739\n",
      "total loss 0.000010230056\n",
      "total loss 0.000009918309\n",
      "total loss 0.000012570283\n",
      "total loss 0.000009251583\n",
      "total loss 0.000008898013\n",
      "total loss 0.000008552723\n",
      "total loss 0.000008208096\n",
      "total loss 0.000007854561\n",
      "total loss 0.000007496860\n",
      "total loss 0.000007141405\n",
      "total loss 0.000006794144\n",
      "total loss 0.000006594672\n",
      "total loss 0.000007128706\n",
      "total loss 0.000005855242\n",
      "total loss 0.000005568177\n",
      "total loss 0.000005224440\n",
      "total loss 0.000004920051\n",
      "total loss 0.000004670442\n",
      "total loss 0.000004458058\n",
      "total loss 0.000004245328\n",
      "total loss 0.000004058489\n",
      "total loss 0.000003890327\n",
      "total loss 0.000003886284\n",
      "total loss 0.000003618436\n",
      "total loss 0.000003662622\n",
      "total loss 0.000003390597\n",
      "total loss 0.000003966157\n",
      "total loss 0.000003358809\n",
      "total loss 0.000003124564\n",
      "total loss 0.000003057590\n",
      "total loss 0.000003026507\n",
      "total loss 0.000002938212\n",
      "total loss 0.000002887462\n",
      "total loss 0.000002851322\n",
      "total loss 0.000002801298\n",
      "total loss 0.000003079054\n",
      "total loss 0.000002707062\n",
      "total loss 0.000002704649\n",
      "total loss 0.000002611950\n",
      "total loss 0.000002563978\n",
      "total loss 0.000002455591\n",
      "total loss 0.000002301327\n",
      "total loss 0.000002175129\n",
      "total loss 0.000002043977\n",
      "total loss 0.000002004086\n",
      "total loss 0.000002234571\n",
      "total loss 0.000001854894\n",
      "total loss 0.000001816767\n",
      "total loss 0.000001774625\n",
      "total loss 0.000002523563\n",
      "total loss 0.000001701302\n",
      "total loss 0.000001743284\n",
      "total loss 0.000001667860\n",
      "total loss 0.000001839487\n",
      "total loss 0.000001771000\n",
      "total loss 0.000001617856\n",
      "total loss 0.000001610386\n",
      "total loss 0.000001583910\n",
      "total loss 0.000001559279\n",
      "total loss 0.000001549159\n",
      "total loss 0.000001547086\n",
      "total loss 0.000001548304\n",
      "total loss 0.000001545301\n",
      "total loss 0.000001753532\n",
      "total loss 0.000001844672\n",
      "total loss 0.000001506517\n",
      "total loss 0.000001501325\n",
      "total loss 0.000001504121\n",
      "total loss 0.000001490263\n",
      "total loss 0.000001485635\n",
      "total loss 0.000001985053\n",
      "total loss 0.000001503308\n",
      "total loss 0.000001471839\n",
      "total loss 0.000001530962\n",
      "total loss 0.000001563687\n",
      "total loss 0.000001459978\n",
      "total loss 0.000001626182\n",
      "total loss 0.000001470201\n",
      "total loss 0.000001451805\n",
      "total loss 0.000001457432\n",
      "total loss 0.000001494415\n",
      "total loss 0.000001465383\n",
      "total loss 0.000001436282\n",
      "total loss 0.000001434205\n",
      "total loss 0.000001458245\n",
      "total loss 0.000001427627\n",
      "total loss 0.000001474787\n",
      "total loss 0.000001613908\n",
      "total loss 0.000001482330\n",
      "total loss 0.000001531704\n",
      "total loss 0.000001499474\n",
      "total loss 0.000001633345\n",
      "total loss 0.000001409442\n",
      "total loss 0.000001612390\n",
      "total loss 0.000001519159\n",
      "total loss 0.000001401970\n",
      "total loss 0.000001411356\n",
      "total loss 0.000001514883\n",
      "total loss 0.000001405310\n",
      "total loss 0.000001399266\n",
      "total loss 0.000002286303\n",
      "total loss 0.000001472868\n",
      "total loss 0.000001387566\n",
      "total loss 0.000001383680\n",
      "total loss 0.000001384362\n",
      "total loss 0.000001393278\n",
      "total loss 0.000001405140\n",
      "total loss 0.000001397160\n",
      "total loss 0.000001417455\n",
      "total loss 0.000001375095\n",
      "total loss 0.000001370351\n",
      "total loss 0.000001382562\n",
      "total loss 0.000001381906\n",
      "total loss 0.000001367442\n",
      "total loss 0.000001423349\n",
      "total loss 0.000001361441\n",
      "total loss 0.000001378543\n",
      "total loss 0.000001449345\n",
      "total loss 0.000001395876\n",
      "total loss 0.000001356393\n",
      "total loss 0.000001433660\n",
      "total loss 0.000001351958\n",
      "total loss 0.000001356318\n",
      "total loss 0.000001632908\n",
      "total loss 0.000001391499\n",
      "total loss 0.000001470699\n",
      "total loss 0.000001345979\n",
      "total loss 0.000001500941\n",
      "total loss 0.000001417525\n",
      "total loss 0.000001345419\n",
      "total loss 0.000001343574\n",
      "total loss 0.000001382698\n",
      "total loss 0.000001404306\n",
      "total loss 0.000001349306\n",
      "total loss 0.000001361741\n",
      "total loss 0.000001341342\n",
      "total loss 0.000001643979\n",
      "total loss 0.000001339876\n",
      "total loss 0.000001399056\n",
      "total loss 0.000001396013\n"
     ]
    },
    {
     "ename": "KeyboardInterrupt",
     "evalue": "",
     "output_type": "error",
     "traceback": [
      "\u001b[0;31m---------------------------------------------------------------------------\u001b[0m",
      "\u001b[0;31mKeyboardInterrupt\u001b[0m                         Traceback (most recent call last)",
      "\u001b[0;32m<ipython-input-60-5cb9ef707236>\u001b[0m in \u001b[0;36m<module>\u001b[0;34m\u001b[0m\n\u001b[1;32m      8\u001b[0m \u001b[0;32mfor\u001b[0m \u001b[0mepoch\u001b[0m \u001b[0;32min\u001b[0m \u001b[0mrange\u001b[0m\u001b[0;34m(\u001b[0m\u001b[0;36m100000\u001b[0m\u001b[0;34m)\u001b[0m\u001b[0;34m:\u001b[0m\u001b[0;34m\u001b[0m\u001b[0;34m\u001b[0m\u001b[0m\n\u001b[1;32m      9\u001b[0m     \u001b[0mtotal_loss\u001b[0m \u001b[0;34m=\u001b[0m \u001b[0;36m0\u001b[0m\u001b[0;34m\u001b[0m\u001b[0;34m\u001b[0m\u001b[0m\n\u001b[0;32m---> 10\u001b[0;31m     \u001b[0mresults\u001b[0m \u001b[0;34m=\u001b[0m \u001b[0mlocal\u001b[0m\u001b[0;34m(\u001b[0m\u001b[0mtdrho\u001b[0m\u001b[0;34m[\u001b[0m\u001b[0;34m:\u001b[0m\u001b[0;34m:\u001b[0m\u001b[0;34m]\u001b[0m\u001b[0;34m)\u001b[0m\u001b[0;34m\u001b[0m\u001b[0;34m\u001b[0m\u001b[0m\n\u001b[0m\u001b[1;32m     11\u001b[0m     \u001b[0mloss\u001b[0m \u001b[0;34m=\u001b[0m \u001b[0meloss\u001b[0m\u001b[0;34m(\u001b[0m\u001b[0mresults\u001b[0m\u001b[0;34m,\u001b[0m \u001b[0mtFxc\u001b[0m\u001b[0;34m[\u001b[0m\u001b[0;34m:\u001b[0m\u001b[0;34m:\u001b[0m\u001b[0;34m]\u001b[0m\u001b[0;34m)\u001b[0m\u001b[0;34m\u001b[0m\u001b[0;34m\u001b[0m\u001b[0m\n\u001b[1;32m     12\u001b[0m     \u001b[0mtotal_loss\u001b[0m \u001b[0;34m+=\u001b[0m \u001b[0mloss\u001b[0m\u001b[0;34m.\u001b[0m\u001b[0mitem\u001b[0m\u001b[0;34m(\u001b[0m\u001b[0;34m)\u001b[0m\u001b[0;34m\u001b[0m\u001b[0;34m\u001b[0m\u001b[0m\n",
      "\u001b[0;32m~/miniconda3/envs/e3nn/lib/python3.8/site-packages/torch/nn/modules/module.py\u001b[0m in \u001b[0;36m_call_impl\u001b[0;34m(self, *input, **kwargs)\u001b[0m\n\u001b[1;32m    720\u001b[0m             \u001b[0mresult\u001b[0m \u001b[0;34m=\u001b[0m \u001b[0mself\u001b[0m\u001b[0;34m.\u001b[0m\u001b[0m_slow_forward\u001b[0m\u001b[0;34m(\u001b[0m\u001b[0;34m*\u001b[0m\u001b[0minput\u001b[0m\u001b[0;34m,\u001b[0m \u001b[0;34m**\u001b[0m\u001b[0mkwargs\u001b[0m\u001b[0;34m)\u001b[0m\u001b[0;34m\u001b[0m\u001b[0;34m\u001b[0m\u001b[0m\n\u001b[1;32m    721\u001b[0m         \u001b[0;32melse\u001b[0m\u001b[0;34m:\u001b[0m\u001b[0;34m\u001b[0m\u001b[0;34m\u001b[0m\u001b[0m\n\u001b[0;32m--> 722\u001b[0;31m             \u001b[0mresult\u001b[0m \u001b[0;34m=\u001b[0m \u001b[0mself\u001b[0m\u001b[0;34m.\u001b[0m\u001b[0mforward\u001b[0m\u001b[0;34m(\u001b[0m\u001b[0;34m*\u001b[0m\u001b[0minput\u001b[0m\u001b[0;34m,\u001b[0m \u001b[0;34m**\u001b[0m\u001b[0mkwargs\u001b[0m\u001b[0;34m)\u001b[0m\u001b[0;34m\u001b[0m\u001b[0;34m\u001b[0m\u001b[0m\n\u001b[0m\u001b[1;32m    723\u001b[0m         for hook in itertools.chain(\n\u001b[1;32m    724\u001b[0m                 \u001b[0m_global_forward_hooks\u001b[0m\u001b[0;34m.\u001b[0m\u001b[0mvalues\u001b[0m\u001b[0;34m(\u001b[0m\u001b[0;34m)\u001b[0m\u001b[0;34m,\u001b[0m\u001b[0;34m\u001b[0m\u001b[0;34m\u001b[0m\u001b[0m\n",
      "\u001b[0;32m~/Research/NEURALXC/dpyscf/dpyscf/net.py\u001b[0m in \u001b[0;36mforward\u001b[0;34m(self, rho, **kwargs)\u001b[0m\n\u001b[1;32m    362\u001b[0m \u001b[0;34m\u001b[0m\u001b[0m\n\u001b[1;32m    363\u001b[0m         \u001b[0;31m# squeezed = -self.net(rho[...,self.use]).squeeze()*self.gate(rho).squeeze()\u001b[0m\u001b[0;34m\u001b[0m\u001b[0;34m\u001b[0m\u001b[0;34m\u001b[0m\u001b[0m\n\u001b[0;32m--> 364\u001b[0;31m         \u001b[0msqueezed\u001b[0m \u001b[0;34m=\u001b[0m \u001b[0;34m-\u001b[0m\u001b[0mself\u001b[0m\u001b[0;34m.\u001b[0m\u001b[0mgate\u001b[0m\u001b[0;34m(\u001b[0m\u001b[0mrho\u001b[0m\u001b[0;34m)\u001b[0m\u001b[0;34m.\u001b[0m\u001b[0msqueeze\u001b[0m\u001b[0;34m(\u001b[0m\u001b[0;34m)\u001b[0m\u001b[0;34m\u001b[0m\u001b[0;34m\u001b[0m\u001b[0m\n\u001b[0m\u001b[1;32m    365\u001b[0m         \u001b[0;32mif\u001b[0m \u001b[0mself\u001b[0m\u001b[0;34m.\u001b[0m\u001b[0mueg_limit\u001b[0m\u001b[0;34m:\u001b[0m\u001b[0;34m\u001b[0m\u001b[0;34m\u001b[0m\u001b[0m\n\u001b[1;32m    366\u001b[0m             \u001b[0;31m# ueg_lim = rho[...,self.use[0]]\u001b[0m\u001b[0;34m\u001b[0m\u001b[0;34m\u001b[0m\u001b[0;34m\u001b[0m\u001b[0m\n",
      "\u001b[0;32m~/miniconda3/envs/e3nn/lib/python3.8/site-packages/torch/nn/modules/module.py\u001b[0m in \u001b[0;36m_call_impl\u001b[0;34m(self, *input, **kwargs)\u001b[0m\n\u001b[1;32m    720\u001b[0m             \u001b[0mresult\u001b[0m \u001b[0;34m=\u001b[0m \u001b[0mself\u001b[0m\u001b[0;34m.\u001b[0m\u001b[0m_slow_forward\u001b[0m\u001b[0;34m(\u001b[0m\u001b[0;34m*\u001b[0m\u001b[0minput\u001b[0m\u001b[0;34m,\u001b[0m \u001b[0;34m**\u001b[0m\u001b[0mkwargs\u001b[0m\u001b[0;34m)\u001b[0m\u001b[0;34m\u001b[0m\u001b[0;34m\u001b[0m\u001b[0m\n\u001b[1;32m    721\u001b[0m         \u001b[0;32melse\u001b[0m\u001b[0;34m:\u001b[0m\u001b[0;34m\u001b[0m\u001b[0;34m\u001b[0m\u001b[0m\n\u001b[0;32m--> 722\u001b[0;31m             \u001b[0mresult\u001b[0m \u001b[0;34m=\u001b[0m \u001b[0mself\u001b[0m\u001b[0;34m.\u001b[0m\u001b[0mforward\u001b[0m\u001b[0;34m(\u001b[0m\u001b[0;34m*\u001b[0m\u001b[0minput\u001b[0m\u001b[0;34m,\u001b[0m \u001b[0;34m**\u001b[0m\u001b[0mkwargs\u001b[0m\u001b[0;34m)\u001b[0m\u001b[0;34m\u001b[0m\u001b[0;34m\u001b[0m\u001b[0m\n\u001b[0m\u001b[1;32m    723\u001b[0m         for hook in itertools.chain(\n\u001b[1;32m    724\u001b[0m                 \u001b[0m_global_forward_hooks\u001b[0m\u001b[0;34m.\u001b[0m\u001b[0mvalues\u001b[0m\u001b[0;34m(\u001b[0m\u001b[0;34m)\u001b[0m\u001b[0;34m,\u001b[0m\u001b[0;34m\u001b[0m\u001b[0;34m\u001b[0m\u001b[0m\n",
      "\u001b[0;32m~/miniconda3/envs/e3nn/lib/python3.8/site-packages/torch/nn/modules/container.py\u001b[0m in \u001b[0;36mforward\u001b[0;34m(self, input)\u001b[0m\n\u001b[1;32m    115\u001b[0m     \u001b[0;32mdef\u001b[0m \u001b[0mforward\u001b[0m\u001b[0;34m(\u001b[0m\u001b[0mself\u001b[0m\u001b[0;34m,\u001b[0m \u001b[0minput\u001b[0m\u001b[0;34m)\u001b[0m\u001b[0;34m:\u001b[0m\u001b[0;34m\u001b[0m\u001b[0;34m\u001b[0m\u001b[0m\n\u001b[1;32m    116\u001b[0m         \u001b[0;32mfor\u001b[0m \u001b[0mmodule\u001b[0m \u001b[0;32min\u001b[0m \u001b[0mself\u001b[0m\u001b[0;34m:\u001b[0m\u001b[0;34m\u001b[0m\u001b[0;34m\u001b[0m\u001b[0m\n\u001b[0;32m--> 117\u001b[0;31m             \u001b[0minput\u001b[0m \u001b[0;34m=\u001b[0m \u001b[0mmodule\u001b[0m\u001b[0;34m(\u001b[0m\u001b[0minput\u001b[0m\u001b[0;34m)\u001b[0m\u001b[0;34m\u001b[0m\u001b[0;34m\u001b[0m\u001b[0m\n\u001b[0m\u001b[1;32m    118\u001b[0m         \u001b[0;32mreturn\u001b[0m \u001b[0minput\u001b[0m\u001b[0;34m\u001b[0m\u001b[0;34m\u001b[0m\u001b[0m\n\u001b[1;32m    119\u001b[0m \u001b[0;34m\u001b[0m\u001b[0m\n",
      "\u001b[0;32m~/miniconda3/envs/e3nn/lib/python3.8/site-packages/torch/nn/modules/module.py\u001b[0m in \u001b[0;36m_call_impl\u001b[0;34m(self, *input, **kwargs)\u001b[0m\n\u001b[1;32m    720\u001b[0m             \u001b[0mresult\u001b[0m \u001b[0;34m=\u001b[0m \u001b[0mself\u001b[0m\u001b[0;34m.\u001b[0m\u001b[0m_slow_forward\u001b[0m\u001b[0;34m(\u001b[0m\u001b[0;34m*\u001b[0m\u001b[0minput\u001b[0m\u001b[0;34m,\u001b[0m \u001b[0;34m**\u001b[0m\u001b[0mkwargs\u001b[0m\u001b[0;34m)\u001b[0m\u001b[0;34m\u001b[0m\u001b[0;34m\u001b[0m\u001b[0m\n\u001b[1;32m    721\u001b[0m         \u001b[0;32melse\u001b[0m\u001b[0;34m:\u001b[0m\u001b[0;34m\u001b[0m\u001b[0;34m\u001b[0m\u001b[0m\n\u001b[0;32m--> 722\u001b[0;31m             \u001b[0mresult\u001b[0m \u001b[0;34m=\u001b[0m \u001b[0mself\u001b[0m\u001b[0;34m.\u001b[0m\u001b[0mforward\u001b[0m\u001b[0;34m(\u001b[0m\u001b[0;34m*\u001b[0m\u001b[0minput\u001b[0m\u001b[0;34m,\u001b[0m \u001b[0;34m**\u001b[0m\u001b[0mkwargs\u001b[0m\u001b[0;34m)\u001b[0m\u001b[0;34m\u001b[0m\u001b[0;34m\u001b[0m\u001b[0m\n\u001b[0m\u001b[1;32m    723\u001b[0m         for hook in itertools.chain(\n\u001b[1;32m    724\u001b[0m                 \u001b[0m_global_forward_hooks\u001b[0m\u001b[0;34m.\u001b[0m\u001b[0mvalues\u001b[0m\u001b[0;34m(\u001b[0m\u001b[0;34m)\u001b[0m\u001b[0;34m,\u001b[0m\u001b[0;34m\u001b[0m\u001b[0;34m\u001b[0m\u001b[0m\n",
      "\u001b[0;32m~/miniconda3/envs/e3nn/lib/python3.8/site-packages/torch/nn/modules/activation.py\u001b[0m in \u001b[0;36mforward\u001b[0;34m(self, input)\u001b[0m\n\u001b[1;32m    565\u001b[0m     \"\"\"\n\u001b[1;32m    566\u001b[0m     \u001b[0;32mdef\u001b[0m \u001b[0mforward\u001b[0m\u001b[0;34m(\u001b[0m\u001b[0mself\u001b[0m\u001b[0;34m,\u001b[0m \u001b[0minput\u001b[0m\u001b[0;34m:\u001b[0m \u001b[0mTensor\u001b[0m\u001b[0;34m)\u001b[0m \u001b[0;34m->\u001b[0m \u001b[0mTensor\u001b[0m\u001b[0;34m:\u001b[0m\u001b[0;34m\u001b[0m\u001b[0;34m\u001b[0m\u001b[0m\n\u001b[0;32m--> 567\u001b[0;31m         \u001b[0;32mreturn\u001b[0m \u001b[0mF\u001b[0m\u001b[0;34m.\u001b[0m\u001b[0mgelu\u001b[0m\u001b[0;34m(\u001b[0m\u001b[0minput\u001b[0m\u001b[0;34m)\u001b[0m\u001b[0;34m\u001b[0m\u001b[0;34m\u001b[0m\u001b[0m\n\u001b[0m\u001b[1;32m    568\u001b[0m \u001b[0;34m\u001b[0m\u001b[0m\n\u001b[1;32m    569\u001b[0m \u001b[0;34m\u001b[0m\u001b[0m\n",
      "\u001b[0;32m~/miniconda3/envs/e3nn/lib/python3.8/site-packages/torch/nn/functional.py\u001b[0m in \u001b[0;36mgelu\u001b[0;34m(input)\u001b[0m\n\u001b[1;32m   1367\u001b[0m         \u001b[0;32mif\u001b[0m \u001b[0mtype\u001b[0m\u001b[0;34m(\u001b[0m\u001b[0minput\u001b[0m\u001b[0;34m)\u001b[0m \u001b[0;32mis\u001b[0m \u001b[0;32mnot\u001b[0m \u001b[0mTensor\u001b[0m \u001b[0;32mand\u001b[0m \u001b[0mhas_torch_function\u001b[0m\u001b[0;34m(\u001b[0m\u001b[0;34m(\u001b[0m\u001b[0minput\u001b[0m\u001b[0;34m,\u001b[0m\u001b[0;34m)\u001b[0m\u001b[0;34m)\u001b[0m\u001b[0;34m:\u001b[0m\u001b[0;34m\u001b[0m\u001b[0;34m\u001b[0m\u001b[0m\n\u001b[1;32m   1368\u001b[0m             \u001b[0;32mreturn\u001b[0m \u001b[0mhandle_torch_function\u001b[0m\u001b[0;34m(\u001b[0m\u001b[0mgelu\u001b[0m\u001b[0;34m,\u001b[0m \u001b[0;34m(\u001b[0m\u001b[0minput\u001b[0m\u001b[0;34m,\u001b[0m\u001b[0;34m)\u001b[0m\u001b[0;34m,\u001b[0m \u001b[0minput\u001b[0m\u001b[0;34m)\u001b[0m\u001b[0;34m\u001b[0m\u001b[0;34m\u001b[0m\u001b[0m\n\u001b[0;32m-> 1369\u001b[0;31m     \u001b[0;32mreturn\u001b[0m \u001b[0mtorch\u001b[0m\u001b[0;34m.\u001b[0m\u001b[0m_C\u001b[0m\u001b[0;34m.\u001b[0m\u001b[0m_nn\u001b[0m\u001b[0;34m.\u001b[0m\u001b[0mgelu\u001b[0m\u001b[0;34m(\u001b[0m\u001b[0minput\u001b[0m\u001b[0;34m)\u001b[0m\u001b[0;34m\u001b[0m\u001b[0;34m\u001b[0m\u001b[0m\n\u001b[0m\u001b[1;32m   1370\u001b[0m \u001b[0;34m\u001b[0m\u001b[0m\n\u001b[1;32m   1371\u001b[0m \u001b[0;34m\u001b[0m\u001b[0m\n",
      "\u001b[0;31mKeyboardInterrupt\u001b[0m: "
     ]
    }
   ],
   "source": [
    "PRINT_EVERY=200\n",
    "optimizer = torch.optim.Adam(local.parameters(),\n",
    "                         lr=0.001,weight_decay=0)\n",
    "\n",
    "eloss = torch.nn.MSELoss()\n",
    "\n",
    "\n",
    "for epoch in range(100000):\n",
    "    total_loss = 0\n",
    "    results = local(tdrho[::])\n",
    "    loss = eloss(results, tFxc[::])\n",
    "    total_loss += loss.item()\n",
    "    loss.backward()\n",
    "\n",
    "    optimizer.step()\n",
    "    optimizer.zero_grad()\n",
    "    if epoch%PRINT_EVERY==0:\n",
    "        print('total loss {:.12f}'.format(total_loss))\n",
    "        \n"
   ]
  },
  {
   "cell_type": "code",
   "execution_count": 61,
   "metadata": {},
   "outputs": [],
   "source": [
    "drho = tdrho[:,-1].cpu().detach()"
   ]
  },
  {
   "cell_type": "code",
   "execution_count": 62,
   "metadata": {},
   "outputs": [
    {
     "data": {
      "text/plain": [
       "<matplotlib.legend.Legend at 0x7f44065b11c0>"
      ]
     },
     "execution_count": 62,
     "metadata": {},
     "output_type": "execute_result"
    },
    {
     "data": {
      "image/png": "[encoded data removed]",
      "text/plain": [
       "<Figure size 432x288 with 1 Axes>"
      ]
     },
     "metadata": {
      "needs_background": "light"
     },
     "output_type": "display_data"
    }
   ],
   "source": [
    "plot(drho, local(tdrho).cpu().detach().data,ls ='',marker=',')\n",
    "plot(drho, tFxc.cpu(),ls='',marker=',',label='Fxc')\n",
    "legend()\n",
    "# xlim(0,3)\n",
    "# xscale('log')\n",
    "# yscale('log')"
   ]
  },
  {
   "cell_type": "code",
   "execution_count": 63,
   "metadata": {},
   "outputs": [
    {
     "data": {
      "text/plain": [
       "[<matplotlib.lines.Line2D at 0x7f440b72d580>]"
      ]
     },
     "execution_count": 63,
     "metadata": {},
     "output_type": "execute_result"
    },
    {
     "data": {
      "image/png": "[encoded data removed]",
      "text/plain": [
       "<Figure size 432x288 with 1 Axes>"
      ]
     },
     "metadata": {
      "needs_background": "light"
     },
     "output_type": "display_data"
    }
   ],
   "source": [
    "plot(drho, (local(tdrho).cpu()-tFxc.cpu()).detach().data,ls='',marker='.')\n",
    "# plot(np.exp(drho), Fxc.detach().data)\n",
    "# xscale('log')"
   ]
  },
  {
   "cell_type": "code",
   "execution_count": 64,
   "metadata": {},
   "outputs": [
    {
     "data": {
      "text/plain": [
       "[<matplotlib.lines.Line2D at 0x7f44048c7c40>]"
      ]
     },
     "execution_count": 64,
     "metadata": {},
     "output_type": "execute_result"
    },
    {
     "data": {
      "image/png": "[encoded data removed]",
      "text/plain": [
       "<Figure size 432x288 with 1 Axes>"
      ]
     },
     "metadata": {
      "needs_background": "light"
     },
     "output_type": "display_data"
    }
   ],
   "source": [
    "plot((local(tdrho).cpu()-tFxc.cpu()).detach().data,ls='',marker='.')"
   ]
  },
  {
   "cell_type": "code",
   "execution_count": 65,
   "metadata": {},
   "outputs": [],
   "source": [
    "torch.save(local.state_dict(), '../models/pretrained/pbe_pw/c')"
   ]
  },
  {
   "cell_type": "code",
   "execution_count": 66,
   "metadata": {},
   "outputs": [],
   "source": [
    "loc = '../models/pretrained/pbe_pw/GGA_C_PBE'"
   ]
  },
  {
   "cell_type": "code",
   "execution_count": 71,
   "metadata": {},
   "outputs": [],
   "source": [
    "xc.evaluate()\n",
    "xc.epsilon=1e-7"
   ]
  },
  {
   "cell_type": "code",
   "execution_count": 70,
   "metadata": {},
   "outputs": [],
   "source": [
    "xc = XC(grid_models=[local], heg_mult=True, level= {'GGA':2, 'MGGA':3}[level])\n",
    "xc.epsilon = 0\n",
    "# if xc == 'c':\n",
    "xc.loge = 1e-5"
   ]
  },
  {
   "cell_type": "code",
   "execution_count": 72,
   "metadata": {},
   "outputs": [
    {
     "name": "stderr",
     "output_type": "stream",
     "text": [
      "/home/sebastian/Research/NEURALXC/dpyscf/dpyscf/net.py:369: TracerWarning: Converting a tensor to a Python index might cause the trace to be incorrect. We can't record the data flow of Python values, so this value will be treated as a constant in the future. This means that the trace might not generalize to other inputs!\n",
      "  ueg_lim_a = torch.pow(self.tanh(rho[...,self.use[1]]),2)\n"
     ]
    }
   ],
   "source": [
    "xc.forward = xc.eval_grid_models\n",
    "traced = torch.jit.trace(xc, torch.abs(torch.rand(100,9)))\n",
    "try:\n",
    "    os.mkdir(loc)\n",
    "except:\n",
    "    pass\n",
    "torch.jit.save(traced, loc +'/xc')"
   ]
  },
  {
   "cell_type": "code",
   "execution_count": null,
   "metadata": {},
   "outputs": [],
   "source": []
  },
  {
   "cell_type": "code",
   "execution_count": 1,
   "metadata": {},
   "outputs": [
    {
     "name": "stdout",
     "output_type": "stream",
     "text": [
      "Populating the interactive namespace from numpy and matplotlib\n"
     ]
    }
   ],
   "source": [
    "import numpy as np\n",
    "%pylab inline"
   ]
  },
  {
   "cell_type": "code",
   "execution_count": 7,
   "metadata": {},
   "outputs": [
    {
     "data": {
      "text/plain": [
       "[<matplotlib.lines.Line2D at 0x7fec5307adf0>]"
      ]
     },
     "execution_count": 7,
     "metadata": {},
     "output_type": "execute_result"
    },
    {
     "data": {
      "image/png": "[encoded data removed]",
      "text/plain": [
       "<Figure size 432x288 with 1 Axes>"
      ]
     },
     "metadata": {
      "needs_background": "light"
     },
     "output_type": "display_data"
    }
   ],
   "source": [
    "x = np.linspace(0,10,100)\n",
    "plot(x,0.1*x**2/(1+0.1*x**2))"
   ]
  },
  {
   "cell_type": "code",
   "execution_count": null,
   "metadata": {},
   "outputs": [],
   "source": []
  }
 ],
 "metadata": {
  "kernelspec": {
   "display_name": "Python 3",
   "language": "python",
   "name": "python3"
  },
  "language_info": {
   "codemirror_mode": {
    "name": "ipython",
    "version": 3
   },
   "file_extension": ".py",
   "mimetype": "text/x-python",
   "name": "python",
   "nbconvert_exporter": "python",
   "pygments_lexer": "ipython3",
   "version": "3.8.5"
  }
 },
 "nbformat": 4,
 "nbformat_minor": 4
}
