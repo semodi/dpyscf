{
 "cells": [
  {
   "cell_type": "code",
   "execution_count": 3,
   "metadata": {},
   "outputs": [],
   "source": [
    "import pandas as pd\n",
    "\n",
    "import tabula"
   ]
  },
  {
   "cell_type": "code",
   "execution_count": 4,
   "metadata": {},
   "outputs": [
    {
     "name": "stderr",
     "output_type": "stream",
     "text": [
      "Got stderr: Nov 25, 2020 1:27:18 PM org.apache.pdfbox.pdmodel.font.PDType1Font <init>\n",
      "WARNING: Using fallback font LiberationSans for base font Symbol\n",
      "Nov 25, 2020 1:27:18 PM org.apache.pdfbox.pdmodel.font.PDType1Font <init>\n",
      "WARNING: Using fallback font LiberationSans for base font ZapfDingbats\n",
      "\n"
     ]
    }
   ],
   "source": [
    "table = tabula.read_pdf('papers/haunschild2012.pdf',pages=4)\n",
    "\n",
    "df = table[0]\n",
    "\n",
    "df.columns= df.loc[0]\n",
    "\n",
    "\n",
    "part1 = df.iloc[1:,[0,1,6]]\n",
    "part2 = df.iloc[1:,[10,11,16]]\n",
    "\n",
    "part1.columns = ['Formula','Name','E']\n",
    "part2.columns = ['Formula','Name','E']\n",
    "\n",
    "df1 = pd.concat([part1,part2]).reset_index(drop=True)"
   ]
  },
  {
   "cell_type": "code",
   "execution_count": 5,
   "metadata": {},
   "outputs": [
    {
     "name": "stderr",
     "output_type": "stream",
     "text": [
      "Got stderr: Nov 25, 2020 1:27:19 PM org.apache.pdfbox.pdmodel.font.PDSimpleFont toUnicode\n",
      "WARNING: No Unicode mapping for Delta1 (5) in font WGFBQB+MTMI\n",
      "Nov 25, 2020 1:27:20 PM org.apache.pdfbox.pdmodel.font.PDType1Font <init>\n",
      "WARNING: Using fallback font LiberationSans for base font Symbol\n",
      "Nov 25, 2020 1:27:20 PM org.apache.pdfbox.pdmodel.font.PDType1Font <init>\n",
      "WARNING: Using fallback font LiberationSans for base font ZapfDingbats\n",
      "\n"
     ]
    }
   ],
   "source": [
    "table = tabula.read_pdf('papers/haunschild2012.pdf',pages=5)\n",
    "\n",
    "df = table[0]\n",
    "\n",
    "df.columns= df.loc[0]\n",
    "\n",
    "df = df.iloc[1:,[0,1,6]]\n",
    "\n",
    "df2 = df.dropna().iloc[:-4,:]"
   ]
  },
  {
   "cell_type": "code",
   "execution_count": 6,
   "metadata": {},
   "outputs": [],
   "source": [
    "df2.columns = ['Formula','Name','E']\n",
    "df = pd.concat([df1.iloc[1:],df2])"
   ]
  },
  {
   "cell_type": "code",
   "execution_count": 7,
   "metadata": {},
   "outputs": [],
   "source": [
    "df = df.reset_index(drop=True)"
   ]
  },
  {
   "cell_type": "code",
   "execution_count": 8,
   "metadata": {},
   "outputs": [],
   "source": [
    "df['Formula'] = df['Formula'].apply(lambda x: x.replace(' ',''))"
   ]
  },
  {
   "cell_type": "code",
   "execution_count": 9,
   "metadata": {},
   "outputs": [
    {
     "data": {
      "text/html": [
       "<div>\n",
       "<style scoped>\n",
       "    .dataframe tbody tr th:only-of-type {\n",
       "        vertical-align: middle;\n",
       "    }\n",
       "\n",
       "    .dataframe tbody tr th {\n",
       "        vertical-align: top;\n",
       "    }\n",
       "\n",
       "    .dataframe thead th {\n",
       "        text-align: right;\n",
       "    }\n",
       "</style>\n",
       "<table border=\"1\" class=\"dataframe\">\n",
       "  <thead>\n",
       "    <tr style=\"text-align: right;\">\n",
       "      <th></th>\n",
       "      <th>Formula</th>\n",
       "      <th>Name</th>\n",
       "      <th>E</th>\n",
       "    </tr>\n",
       "  </thead>\n",
       "  <tbody>\n",
       "    <tr>\n",
       "      <th>130</th>\n",
       "      <td>valuesfromRef.43,theW4valuesfromRef.9,andtheG2...</td>\n",
       "      <td>Dioxygen</td>\n",
       "      <td>505.88</td>\n",
       "    </tr>\n",
       "    <tr>\n",
       "      <th>142</th>\n",
       "      <td>leveloftheoryis0.47kJ/mollowerthanforthestruct...</td>\n",
       "      <td>Triplet silylene</td>\n",
       "      <td>555.72</td>\n",
       "    </tr>\n",
       "    <tr>\n",
       "      <th>144</th>\n",
       "      <td>SiHmulti-referenceeffectsinsingletCH2arenotsuf...</td>\n",
       "      <td>Silane</td>\n",
       "      <td>1357.91</td>\n",
       "    </tr>\n",
       "  </tbody>\n",
       "</table>\n",
       "</div>"
      ],
      "text/plain": [
       "                                               Formula              Name  \\\n",
       "130  valuesfromRef.43,theW4valuesfromRef.9,andtheG2...          Dioxygen   \n",
       "142  leveloftheoryis0.47kJ/mollowerthanforthestruct...  Triplet silylene   \n",
       "144  SiHmulti-referenceeffectsinsingletCH2arenotsuf...            Silane   \n",
       "\n",
       "           E  \n",
       "130   505.88  \n",
       "142   555.72  \n",
       "144  1357.91  "
      ]
     },
     "execution_count": 9,
     "metadata": {},
     "output_type": "execute_result"
    }
   ],
   "source": [
    "df[~df['Formula'].apply(lambda x: len(x) < 10)]"
   ]
  },
  {
   "cell_type": "code",
   "execution_count": 10,
   "metadata": {},
   "outputs": [],
   "source": [
    "df.loc[130,'Formula'] = 'O2'\n",
    "df.loc[142,'Formula'] = 'SiH2'\n",
    "df.loc[144,'Formula'] = 'SiH4'\n",
    "df.loc[132,'Formula'] = 'O3'"
   ]
  },
  {
   "cell_type": "code",
   "execution_count": 11,
   "metadata": {},
   "outputs": [],
   "source": [
    "from itertools import permutations\n",
    "from ase.io import read, write\n",
    "import numpy as np \n",
    "from ase import Atoms"
   ]
  },
  {
   "cell_type": "code",
   "execution_count": 12,
   "metadata": {},
   "outputs": [],
   "source": [
    "def expand_molname(name):\n",
    "    import re\n",
    "    def it(l):\n",
    "        if not isinstance(l,list):\n",
    "            l = [l]\n",
    "        for l_ in l:\n",
    "            yield l_ \n",
    "    \n",
    "    # Splitting on UpperCase using re\n",
    "    res_list = []\n",
    "    res_list = re.findall('[A-Z][^A-Z]*', name)\n",
    "    for i, a in enumerate(res_list):\n",
    "        if a[-1].isnumeric():\n",
    "            res_list[i] = [a[:-1]]*int(a[-1])\n",
    "    res_list = [r for l in res_list for r in it(l)]\n",
    "    return res_list"
   ]
  },
  {
   "cell_type": "code",
   "execution_count": 32,
   "metadata": {},
   "outputs": [],
   "source": [
    "df['xyz_idx']= [[] for _ in range(len(df))]"
   ]
  },
  {
   "cell_type": "code",
   "execution_count": 33,
   "metadata": {},
   "outputs": [],
   "source": [
    "for a_idx, a in enumerate(read('g2_97.xyz',':')):\n",
    "    for loc, itm in df.iterrows():\n",
    "        form = itm.Formula\n",
    "        try:\n",
    "            df_num = np.sort(Atoms(form).get_atomic_numbers())\n",
    "        except ValueError:\n",
    "            print(loc, form)\n",
    "            raise ValueError\n",
    "        a_num = np.sort(a.get_atomic_numbers())\n",
    "        if len(df_num) == len(a_num) and np.allclose(df_num, a_num):\n",
    "            df.loc[loc, 'xyz_idx'].append(a_idx)"
   ]
  },
  {
   "cell_type": "code",
   "execution_count": 42,
   "metadata": {},
   "outputs": [],
   "source": [
    "df.to_csv('g2_97.csv')"
   ]
  },
  {
   "cell_type": "code",
   "execution_count": 57,
   "metadata": {},
   "outputs": [],
   "source": [
    "df = pd.read_csv('g2_97.csv',index_col=0)"
   ]
  },
  {
   "cell_type": "code",
   "execution_count": 58,
   "metadata": {},
   "outputs": [],
   "source": [
    "df['xyz_idx'] = df.xyz_idx.apply(lambda x: int(x.replace('[','').replace(']','')))"
   ]
  },
  {
   "cell_type": "code",
   "execution_count": 61,
   "metadata": {},
   "outputs": [],
   "source": [
    "df = df.set_index('xyz_idx')"
   ]
  },
  {
   "cell_type": "code",
   "execution_count": 63,
   "metadata": {},
   "outputs": [],
   "source": [
    "df.to_csv('g2_97.csv')"
   ]
  },
  {
   "cell_type": "code",
   "execution_count": 64,
   "metadata": {},
   "outputs": [
    {
     "data": {
      "text/html": [
       "<div>\n",
       "<style scoped>\n",
       "    .dataframe tbody tr th:only-of-type {\n",
       "        vertical-align: middle;\n",
       "    }\n",
       "\n",
       "    .dataframe tbody tr th {\n",
       "        vertical-align: top;\n",
       "    }\n",
       "\n",
       "    .dataframe thead th {\n",
       "        text-align: right;\n",
       "    }\n",
       "</style>\n",
       "<table border=\"1\" class=\"dataframe\">\n",
       "  <thead>\n",
       "    <tr style=\"text-align: right;\">\n",
       "      <th></th>\n",
       "      <th>Formula</th>\n",
       "      <th>Name</th>\n",
       "      <th>E</th>\n",
       "    </tr>\n",
       "    <tr>\n",
       "      <th>xyz_idx</th>\n",
       "      <th></th>\n",
       "      <th></th>\n",
       "      <th></th>\n",
       "    </tr>\n",
       "  </thead>\n",
       "  <tbody>\n",
       "    <tr>\n",
       "      <th>67</th>\n",
       "      <td>AlCl3</td>\n",
       "      <td>Aluminum trichloride</td>\n",
       "      <td>1310.70</td>\n",
       "    </tr>\n",
       "    <tr>\n",
       "      <th>41</th>\n",
       "      <td>AlF3</td>\n",
       "      <td>Aluminum trifluoride</td>\n",
       "      <td>1807.99</td>\n",
       "    </tr>\n",
       "    <tr>\n",
       "      <th>61</th>\n",
       "      <td>BCl3</td>\n",
       "      <td>Boron trichloride</td>\n",
       "      <td>1359.87</td>\n",
       "    </tr>\n",
       "    <tr>\n",
       "      <th>133</th>\n",
       "      <td>BF3</td>\n",
       "      <td>Boron trifluoride</td>\n",
       "      <td>1972.30</td>\n",
       "    </tr>\n",
       "    <tr>\n",
       "      <th>14</th>\n",
       "      <td>BeH</td>\n",
       "      <td>Beryllium monohydride</td>\n",
       "      <td>212.50</td>\n",
       "    </tr>\n",
       "    <tr>\n",
       "      <th>...</th>\n",
       "      <td>...</td>\n",
       "      <td>...</td>\n",
       "      <td>...</td>\n",
       "    </tr>\n",
       "    <tr>\n",
       "      <th>49</th>\n",
       "      <td>SiH3</td>\n",
       "      <td>Silyl radical</td>\n",
       "      <td>953.44</td>\n",
       "    </tr>\n",
       "    <tr>\n",
       "      <th>50</th>\n",
       "      <td>SiH4</td>\n",
       "      <td>Silane</td>\n",
       "      <td>1357.91</td>\n",
       "    </tr>\n",
       "    <tr>\n",
       "      <th>31</th>\n",
       "      <td>SiO</td>\n",
       "      <td>Silicon monoxide</td>\n",
       "      <td>809.19</td>\n",
       "    </tr>\n",
       "    <tr>\n",
       "      <th>74</th>\n",
       "      <td>Si2H6</td>\n",
       "      <td>Disilane</td>\n",
       "      <td>2240.54</td>\n",
       "    </tr>\n",
       "    <tr>\n",
       "      <th>110</th>\n",
       "      <td>Si2</td>\n",
       "      <td>Disilicon</td>\n",
       "      <td>307.75</td>\n",
       "    </tr>\n",
       "  </tbody>\n",
       "</table>\n",
       "<p>148 rows × 3 columns</p>\n",
       "</div>"
      ],
      "text/plain": [
       "        Formula                   Name        E\n",
       "xyz_idx                                        \n",
       "67        AlCl3   Aluminum trichloride  1310.70\n",
       "41         AlF3   Aluminum trifluoride  1807.99\n",
       "61         BCl3      Boron trichloride  1359.87\n",
       "133         BF3      Boron trifluoride  1972.30\n",
       "14          BeH  Beryllium monohydride   212.50\n",
       "...         ...                    ...      ...\n",
       "49         SiH3          Silyl radical   953.44\n",
       "50         SiH4                 Silane  1357.91\n",
       "31          SiO       Silicon monoxide   809.19\n",
       "74        Si2H6               Disilane  2240.54\n",
       "110         Si2              Disilicon   307.75\n",
       "\n",
       "[148 rows x 3 columns]"
      ]
     },
     "execution_count": 64,
     "metadata": {},
     "output_type": "execute_result"
    }
   ],
   "source": [
    "df"
   ]
  },
  {
   "cell_type": "code",
   "execution_count": 70,
   "metadata": {},
   "outputs": [],
   "source": [
    "from ase.calculators.singlepoint import SinglePointCalculator"
   ]
  },
  {
   "cell_type": "code",
   "execution_count": 71,
   "metadata": {},
   "outputs": [],
   "source": [
    "from ase.units import kJ,mol\n",
    "kJpmol = kJ/mol"
   ]
  },
  {
   "cell_type": "code",
   "execution_count": 72,
   "metadata": {},
   "outputs": [],
   "source": [
    "atoms = []\n",
    "for a_idx, a in enumerate(read('g2_97.xyz',':')):\n",
    "    a.calc = SinglePointCalculator(a)\n",
    "    a.calc.results['energy'] = df.loc[a_idx,'E'] * kJpmol\n",
    "    a.info['name'] = df.loc[a_idx,'Name']\n",
    "    atoms.append(a)"
   ]
  },
  {
   "cell_type": "code",
   "execution_count": 74,
   "metadata": {},
   "outputs": [],
   "source": [
    "write('g2_97.traj', atoms)"
   ]
  },
  {
   "cell_type": "code",
   "execution_count": 76,
   "metadata": {},
   "outputs": [],
   "source": [
    "import PyPDF2 as pdf\n",
    "\n",
    "# importing required modules \n",
    "import PyPDF2 \n",
    "  \n",
    "# creating a pdf file object \n",
    "pdfFileObj = open('papers/haunschildsupplementalmaterial.pdf', 'rb') \n",
    "  \n",
    "# creating a pdf reader object \n",
    "pdfReader = PyPDF2.PdfFileReader(pdfFileObj) \n",
    "  \n",
    "# printing number of pages in pdf file \n",
    "print(pdfReader.numPages) \n",
    "  \n",
    "text = ''\n",
    "# creating a page object \n",
    "for p in range(2,45):\n",
    "    pageObj = pdfReader.getPage(p) \n",
    "  \n",
    "    # extracting text from page \n",
    "    page = pageObj.extractText()\n",
    "    text += page\n",
    "# closing the pdf file object \n",
    "pdfFileObj.close() \n",
    "\n",
    "\n",
    "lines = text.split()\n",
    "\n",
    "\n",
    "coords = []\n",
    "new_mol = True\n",
    "cnt = 2\n",
    "name = ''\n",
    "for i,l in enumerate(lines):\n",
    "    if len(l) < 3 and l.lower() == l and not l.isnumeric():\n",
    "        if cnt > 1:\n",
    "            name = lines[i-2]\n",
    "        coords.append([l,name, lines[i-1]])\n",
    "        cnt = 0\n",
    "    else:\n",
    "        cnt += 1\n",
    "\n",
    "def coords_from_str(coords):\n",
    "    try:\n",
    "        \n",
    "        c = coords.replace(' ','')\n",
    "        c = c.split('.')\n",
    "        x = c[0] +'.'+ c[1][:14]\n",
    "        y = c[1][14:] +'.'+ c[2][:14]\n",
    "        z = c[2][14:] +'.'+ c[3]\n",
    "        x,y,z = float(x),float(y),float(z)\n",
    "        return x,y,z\n",
    "    except Exception:\n",
    "        return coords\n",
    "    \n",
    "coords = [[c[0].upper(),c[1],coords_from_str(c[2])] for c in coords]"
   ]
  },
  {
   "cell_type": "code",
   "execution_count": 236,
   "metadata": {},
   "outputs": [],
   "source": [
    "text = ''\n",
    "mol = ''\n",
    "cont = [] \n",
    "def flush(cont):\n",
    "    t = ''\n",
    "    try:\n",
    "        if cont:\n",
    "            t = \"\"\"{} \\n {} \\n\"\"\".format(len(cont),cont[0][1])\n",
    "            for c in cont:\n",
    "                t += \"{}\\t{}\\t{}\\t{} \\n\".format(c[0], *c[2])\n",
    "    except Exception:\n",
    "        pass\n",
    "    return t\n",
    "\n",
    "for c in coords:\n",
    "    if c[1] != mol:\n",
    "        mol = c[1]\n",
    "        text += flush(cont)\n",
    "        cont = []\n",
    "    cont.append(c) "
   ]
  },
  {
   "cell_type": "code",
   "execution_count": 238,
   "metadata": {},
   "outputs": [],
   "source": [
    "with open('haunshild_coords.xyz','w') as file:\n",
    "    file.write(text)"
   ]
  },
  {
   "cell_type": "code",
   "execution_count": null,
   "metadata": {},
   "outputs": [],
   "source": []
  }
 ],
 "metadata": {
  "kernelspec": {
   "display_name": "Python 3",
   "language": "python",
   "name": "python3"
  },
  "language_info": {
   "codemirror_mode": {
    "name": "ipython",
    "version": 3
   },
   "file_extension": ".py",
   "mimetype": "text/x-python",
   "name": "python",
   "nbconvert_exporter": "python",
   "pygments_lexer": "ipython3",
   "version": "3.8.5"
  }
 },
 "nbformat": 4,
 "nbformat_minor": 4
}
